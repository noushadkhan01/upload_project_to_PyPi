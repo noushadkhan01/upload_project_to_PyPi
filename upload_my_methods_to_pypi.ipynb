{
  "nbformat": 4,
  "nbformat_minor": 0,
  "metadata": {
    "colab": {
      "name": "upload my_methods to pypi.ipynb",
      "provenance": [],
      "authorship_tag": "ABX9TyMMgtuemzg+KvSTH14GVG9q",
      "include_colab_link": true
    },
    "kernelspec": {
      "name": "python3",
      "display_name": "Python 3"
    }
  },
  "cells": [
    {
      "cell_type": "markdown",
      "metadata": {
        "id": "view-in-github",
        "colab_type": "text"
      },
      "source": [
        "<a href=\"https://colab.research.google.com/github/noushadkhan01/upload_project_to_PyPi/blob/master/upload_my_methods_to_pypi.ipynb\" target=\"_parent\"><img src=\"https://colab.research.google.com/assets/colab-badge.svg\" alt=\"Open In Colab\"/></a>"
      ]
    },
    {
      "cell_type": "markdown",
      "metadata": {
        "id": "QAY2H2iyehw8",
        "colab_type": "text"
      },
      "source": [
        "[see medium article refrence](https://medium.com/@joel.barmettler/how-to-upload-your-python-package-to-pypi-65edc5fe9c56)\n",
        "and \n",
        "[pypi org refrence](https://packaging.python.org/tutorials/packaging-projects/)"
      ]
    },
    {
      "cell_type": "code",
      "metadata": {
        "id": "UachebgBNGB4",
        "colab_type": "code",
        "outputId": "775900c0-bb49-49e4-b53d-5c5a4e2d9625",
        "colab": {
          "base_uri": "https://localhost:8080/",
          "height": 136
        }
      },
      "source": [
        "!git clone https://github.com/noushadkhan01/my_methods"
      ],
      "execution_count": 1,
      "outputs": [
        {
          "output_type": "stream",
          "text": [
            "Cloning into 'my_methods'...\n",
            "remote: Enumerating objects: 22, done.\u001b[K\n",
            "remote: Counting objects:   4% (1/22)\u001b[K\rremote: Counting objects:   9% (2/22)\u001b[K\rremote: Counting objects:  13% (3/22)\u001b[K\rremote: Counting objects:  18% (4/22)\u001b[K\rremote: Counting objects:  22% (5/22)\u001b[K\rremote: Counting objects:  27% (6/22)\u001b[K\rremote: Counting objects:  31% (7/22)\u001b[K\rremote: Counting objects:  36% (8/22)\u001b[K\rremote: Counting objects:  40% (9/22)\u001b[K\rremote: Counting objects:  45% (10/22)\u001b[K\rremote: Counting objects:  50% (11/22)\u001b[K\rremote: Counting objects:  54% (12/22)\u001b[K\rremote: Counting objects:  59% (13/22)\u001b[K\rremote: Counting objects:  63% (14/22)\u001b[K\rremote: Counting objects:  68% (15/22)\u001b[K\rremote: Counting objects:  72% (16/22)\u001b[K\rremote: Counting objects:  77% (17/22)\u001b[K\rremote: Counting objects:  81% (18/22)\u001b[K\rremote: Counting objects:  86% (19/22)\u001b[K\rremote: Counting objects:  90% (20/22)\u001b[K\rremote: Counting objects:  95% (21/22)\u001b[K\rremote: Counting objects: 100% (22/22)\u001b[K\rremote: Counting objects: 100% (22/22), done.\u001b[K\n",
            "remote: Compressing objects:   4% (1/22)\u001b[K\rremote: Compressing objects:   9% (2/22)\u001b[K\rremote: Compressing objects:  13% (3/22)\u001b[K\rremote: Compressing objects:  18% (4/22)\u001b[K\rremote: Compressing objects:  22% (5/22)\u001b[K\rremote: Compressing objects:  27% (6/22)\u001b[K\rremote: Compressing objects:  31% (7/22)\u001b[K\rremote: Compressing objects:  36% (8/22)\u001b[K\rremote: Compressing objects:  40% (9/22)\u001b[K\rremote: Compressing objects:  45% (10/22)\u001b[K\rremote: Compressing objects:  50% (11/22)\u001b[K\rremote: Compressing objects:  54% (12/22)\u001b[K\rremote: Compressing objects:  59% (13/22)\u001b[K\rremote: Compressing objects:  63% (14/22)\u001b[K\rremote: Compressing objects:  68% (15/22)\u001b[K\rremote: Compressing objects:  72% (16/22)\u001b[K\rremote: Compressing objects:  77% (17/22)\u001b[K\rremote: Compressing objects:  81% (18/22)\u001b[K\rremote: Compressing objects:  86% (19/22)\u001b[K\rremote: Compressing objects:  90% (20/22)\u001b[K\rremote: Compressing objects:  95% (21/22)\u001b[K\rremote: Compressing objects: 100% (22/22)\u001b[K\rremote: Compressing objects: 100% (22/22), done.\u001b[K\n",
            "Receiving objects:   0% (1/531)   \rReceiving objects:   1% (6/531)   \rReceiving objects:   2% (11/531)   \rReceiving objects:   3% (16/531)   \rReceiving objects:   4% (22/531)   \rReceiving objects:   5% (27/531)   \rReceiving objects:   6% (32/531)   \rReceiving objects:   7% (38/531)   \rReceiving objects:   8% (43/531)   \rReceiving objects:   9% (48/531)   \rReceiving objects:  10% (54/531)   \rReceiving objects:  11% (59/531)   \rReceiving objects:  12% (64/531)   \rReceiving objects:  13% (70/531)   \rReceiving objects:  14% (75/531)   \rReceiving objects:  15% (80/531)   \rReceiving objects:  16% (85/531)   \rReceiving objects:  17% (91/531)   \rReceiving objects:  18% (96/531)   \rReceiving objects:  19% (101/531)   \rReceiving objects:  20% (107/531)   \rReceiving objects:  21% (112/531)   \rReceiving objects:  22% (117/531)   \rReceiving objects:  23% (123/531)   \rReceiving objects:  24% (128/531)   \rReceiving objects:  25% (133/531)   \rReceiving objects:  26% (139/531)   \rReceiving objects:  27% (144/531)   \rReceiving objects:  28% (149/531)   \rReceiving objects:  29% (154/531)   \rReceiving objects:  30% (160/531)   \rReceiving objects:  31% (165/531)   \rReceiving objects:  32% (170/531)   \rReceiving objects:  33% (176/531)   \rReceiving objects:  34% (181/531)   \rReceiving objects:  35% (186/531)   \rReceiving objects:  36% (192/531)   \rReceiving objects:  37% (197/531)   \rReceiving objects:  38% (202/531)   \rReceiving objects:  39% (208/531)   \rReceiving objects:  40% (213/531)   \rReceiving objects:  41% (218/531)   \rReceiving objects:  42% (224/531)   \rReceiving objects:  43% (229/531)   \rReceiving objects:  44% (234/531)   \rReceiving objects:  45% (239/531)   \rReceiving objects:  46% (245/531)   \rReceiving objects:  47% (250/531)   \rReceiving objects:  48% (255/531)   \rReceiving objects:  49% (261/531)   \rReceiving objects:  50% (266/531)   \rReceiving objects:  51% (271/531)   \rReceiving objects:  52% (277/531)   \rReceiving objects:  53% (282/531)   \rReceiving objects:  54% (287/531)   \rReceiving objects:  55% (293/531)   \rReceiving objects:  56% (298/531)   \rReceiving objects:  57% (303/531)   \rReceiving objects:  58% (308/531)   \rReceiving objects:  59% (314/531)   \rReceiving objects:  60% (319/531)   \rReceiving objects:  61% (324/531)   \rReceiving objects:  62% (330/531)   \rReceiving objects:  63% (335/531)   \rReceiving objects:  64% (340/531)   \rReceiving objects:  65% (346/531)   \rReceiving objects:  66% (351/531)   \rReceiving objects:  67% (356/531)   \rReceiving objects:  68% (362/531)   \rReceiving objects:  69% (367/531)   \rremote: Total 531 (delta 12), reused 0 (delta 0), pack-reused 509\u001b[K\n",
            "Receiving objects:  70% (372/531)   \rReceiving objects:  71% (378/531)   \rReceiving objects:  72% (383/531)   \rReceiving objects:  73% (388/531)   \rReceiving objects:  74% (393/531)   \rReceiving objects:  75% (399/531)   \rReceiving objects:  76% (404/531)   \rReceiving objects:  77% (409/531)   \rReceiving objects:  78% (415/531)   \rReceiving objects:  79% (420/531)   \rReceiving objects:  80% (425/531)   \rReceiving objects:  81% (431/531)   \rReceiving objects:  82% (436/531)   \rReceiving objects:  83% (441/531)   \rReceiving objects:  84% (447/531)   \rReceiving objects:  85% (452/531)   \rReceiving objects:  86% (457/531)   \rReceiving objects:  87% (462/531)   \rReceiving objects:  88% (468/531)   \rReceiving objects:  89% (473/531)   \rReceiving objects:  90% (478/531)   \rReceiving objects:  91% (484/531)   \rReceiving objects:  92% (489/531)   \rReceiving objects:  93% (494/531)   \rReceiving objects:  94% (500/531)   \rReceiving objects:  95% (505/531)   \rReceiving objects:  96% (510/531)   \rReceiving objects:  97% (516/531)   \rReceiving objects:  98% (521/531)   \rReceiving objects:  99% (526/531)   \rReceiving objects: 100% (531/531)   \rReceiving objects: 100% (531/531), 133.38 KiB | 12.13 MiB/s, done.\n",
            "Resolving deltas:   0% (0/316)   \rResolving deltas:   1% (6/316)   \rResolving deltas:  45% (144/316)   \rResolving deltas:  46% (147/316)   \rResolving deltas:  56% (178/316)   \rResolving deltas:  63% (202/316)   \rResolving deltas:  68% (218/316)   \rResolving deltas:  69% (221/316)   \rResolving deltas:  76% (243/316)   \rResolving deltas:  78% (248/316)   \rResolving deltas:  79% (252/316)   \rResolving deltas:  82% (260/316)   \rResolving deltas:  88% (281/316)   \rResolving deltas:  93% (294/316)   \rResolving deltas:  94% (299/316)   \rResolving deltas:  96% (306/316)   \rResolving deltas:  98% (311/316)   \rResolving deltas:  99% (313/316)   \rResolving deltas: 100% (316/316)   \rResolving deltas: 100% (316/316), done.\n"
          ],
          "name": "stdout"
        }
      ]
    },
    {
      "cell_type": "code",
      "metadata": {
        "id": "h6GgtHZTNJWQ",
        "colab_type": "code",
        "outputId": "fd7c4dbe-685a-46af-b1f9-e645efb51ab8",
        "colab": {
          "base_uri": "https://localhost:8080/",
          "height": 34
        }
      },
      "source": [
        "%cd my_methods"
      ],
      "execution_count": 2,
      "outputs": [
        {
          "output_type": "stream",
          "text": [
            "/content/my_methods\n"
          ],
          "name": "stdout"
        }
      ]
    },
    {
      "cell_type": "code",
      "metadata": {
        "id": "N-8HG7rBN2W2",
        "colab_type": "code",
        "outputId": "a84dcc86-603c-4680-e8e2-90dec9b822c0",
        "colab": {
          "base_uri": "https://localhost:8080/",
          "height": 731
        }
      },
      "source": [
        "!python setup.py sdist"
      ],
      "execution_count": 3,
      "outputs": [
        {
          "output_type": "stream",
          "text": [
            "running sdist\n",
            "running egg_info\n",
            "creating my_methods.egg-info\n",
            "writing my_methods.egg-info/PKG-INFO\n",
            "writing dependency_links to my_methods.egg-info/dependency_links.txt\n",
            "writing top-level names to my_methods.egg-info/top_level.txt\n",
            "writing manifest file 'my_methods.egg-info/SOURCES.txt'\n",
            "writing manifest file 'my_methods.egg-info/SOURCES.txt'\n",
            "running check\n",
            "creating my_methods-0.0.4\n",
            "creating my_methods-0.0.4/my_methods\n",
            "creating my_methods-0.0.4/my_methods.egg-info\n",
            "copying files to my_methods-0.0.4...\n",
            "copying LICENSE.txt -> my_methods-0.0.4\n",
            "copying README.md -> my_methods-0.0.4\n",
            "copying setup.cfg -> my_methods-0.0.4\n",
            "copying setup.py -> my_methods-0.0.4\n",
            "copying my_methods/__init__.py -> my_methods-0.0.4/my_methods\n",
            "copying my_methods/choose_best_classifier.py -> my_methods-0.0.4/my_methods\n",
            "copying my_methods/choose_best_regressor.py -> my_methods-0.0.4/my_methods\n",
            "copying my_methods/choose_optimal_number_of_clusters.py -> my_methods-0.0.4/my_methods\n",
            "copying my_methods/get_cross_validation.py -> my_methods-0.0.4/my_methods\n",
            "copying my_methods/initialize_weights.py -> my_methods-0.0.4/my_methods\n",
            "copying my_methods/matrix_multiplication_without_numpy.py -> my_methods-0.0.4/my_methods\n",
            "copying my_methods/my_backward_propagation.py -> my_methods-0.0.4/my_methods\n",
            "copying my_methods/my_cap_curve.py -> my_methods-0.0.4/my_methods\n",
            "copying my_methods/my_dummy_variable_creator.py -> my_methods-0.0.4/my_methods\n",
            "copying my_methods/my_global_variables.py -> my_methods-0.0.4/my_methods\n",
            "copying my_methods/my_roc_curve.py -> my_methods-0.0.4/my_methods\n",
            "copying my_methods/plot_text.py -> my_methods-0.0.4/my_methods\n",
            "copying my_methods/print_model_results.py -> my_methods-0.0.4/my_methods\n",
            "copying my_methods/sgd_neural_net.py -> my_methods-0.0.4/my_methods\n",
            "copying my_methods/transpose_of_matrix_without_numpy.py -> my_methods-0.0.4/my_methods\n",
            "copying my_methods/visualise_classifier_performance.py -> my_methods-0.0.4/my_methods\n",
            "copying my_methods.egg-info/PKG-INFO -> my_methods-0.0.4/my_methods.egg-info\n",
            "copying my_methods.egg-info/SOURCES.txt -> my_methods-0.0.4/my_methods.egg-info\n",
            "copying my_methods.egg-info/dependency_links.txt -> my_methods-0.0.4/my_methods.egg-info\n",
            "copying my_methods.egg-info/top_level.txt -> my_methods-0.0.4/my_methods.egg-info\n",
            "Writing my_methods-0.0.4/setup.cfg\n",
            "creating dist\n",
            "Creating tar archive\n",
            "removing 'my_methods-0.0.4' (and everything under it)\n"
          ],
          "name": "stdout"
        }
      ]
    },
    {
      "cell_type": "code",
      "metadata": {
        "id": "QSFimmo8N8ll",
        "colab_type": "code",
        "outputId": "de5050a9-fe3c-4362-ba85-479c1b9dc120",
        "colab": {
          "base_uri": "https://localhost:8080/",
          "height": 870
        }
      },
      "source": [
        "!python3 -m pip install --user --upgrade twine"
      ],
      "execution_count": 4,
      "outputs": [
        {
          "output_type": "stream",
          "text": [
            "Collecting twine\n",
            "  Downloading https://files.pythonhosted.org/packages/99/94/08b3b933c611416dad89c8abcc94a6d6c29e8609987235b6e7f10b42de82/twine-3.1.1-py3-none-any.whl\n",
            "Requirement already satisfied, skipping upgrade: tqdm>=4.14 in /usr/local/lib/python3.6/dist-packages (from twine) (4.41.1)\n",
            "Requirement already satisfied, skipping upgrade: setuptools>=0.7.0 in /usr/local/lib/python3.6/dist-packages (from twine) (46.1.3)\n",
            "Collecting keyring>=15.1\n",
            "  Downloading https://files.pythonhosted.org/packages/a8/5e/d13b9feb235d042321a239ac8bc85e90cf3bbe49090c6f1383ac3fd53e0e/keyring-21.2.1-py3-none-any.whl\n",
            "Requirement already satisfied, skipping upgrade: importlib-metadata; python_version < \"3.8\" in /usr/local/lib/python3.6/dist-packages (from twine) (1.6.0)\n",
            "Requirement already satisfied, skipping upgrade: requests>=2.20 in /usr/local/lib/python3.6/dist-packages (from twine) (2.23.0)\n",
            "Collecting pkginfo>=1.4.2\n",
            "  Downloading https://files.pythonhosted.org/packages/e6/d5/451b913307b478c49eb29084916639dc53a88489b993530fed0a66bab8b9/pkginfo-1.5.0.1-py2.py3-none-any.whl\n",
            "Collecting readme-renderer>=21.0\n",
            "  Downloading https://files.pythonhosted.org/packages/54/e4/ed43056d80a4fcc3667e543a59cc6beaf0a3c0eade837e5591e82ad3c25a/readme_renderer-26.0-py2.py3-none-any.whl\n",
            "Collecting requests-toolbelt!=0.9.0,>=0.8.0\n",
            "\u001b[?25l  Downloading https://files.pythonhosted.org/packages/60/ef/7681134338fc097acef8d9b2f8abe0458e4d87559c689a8c306d0957ece5/requests_toolbelt-0.9.1-py2.py3-none-any.whl (54kB)\n",
            "\u001b[K     |████████████████████████████████| 61kB 7.1MB/s \n",
            "\u001b[?25hCollecting SecretStorage>=3; sys_platform == \"linux\"\n",
            "  Downloading https://files.pythonhosted.org/packages/c3/50/8a02cad020e949e6d7105f5f4530d41e3febcaa5b73f8f2148aacb3aeba5/SecretStorage-3.1.2-py3-none-any.whl\n",
            "Collecting jeepney>=0.4.2; sys_platform == \"linux\"\n",
            "  Downloading https://files.pythonhosted.org/packages/79/31/2e8d42727595faf224c6dbb748c32b192e212f25495fe841fb7ce8e168b8/jeepney-0.4.3-py3-none-any.whl\n",
            "Requirement already satisfied, skipping upgrade: zipp>=0.5 in /usr/local/lib/python3.6/dist-packages (from importlib-metadata; python_version < \"3.8\"->twine) (3.1.0)\n",
            "Requirement already satisfied, skipping upgrade: certifi>=2017.4.17 in /usr/local/lib/python3.6/dist-packages (from requests>=2.20->twine) (2020.4.5.1)\n",
            "Requirement already satisfied, skipping upgrade: chardet<4,>=3.0.2 in /usr/local/lib/python3.6/dist-packages (from requests>=2.20->twine) (3.0.4)\n",
            "Requirement already satisfied, skipping upgrade: idna<3,>=2.5 in /usr/local/lib/python3.6/dist-packages (from requests>=2.20->twine) (2.9)\n",
            "Requirement already satisfied, skipping upgrade: urllib3!=1.25.0,!=1.25.1,<1.26,>=1.21.1 in /usr/local/lib/python3.6/dist-packages (from requests>=2.20->twine) (1.24.3)\n",
            "Requirement already satisfied, skipping upgrade: six in /usr/local/lib/python3.6/dist-packages (from readme-renderer>=21.0->twine) (1.12.0)\n",
            "Requirement already satisfied, skipping upgrade: bleach>=2.1.0 in /usr/local/lib/python3.6/dist-packages (from readme-renderer>=21.0->twine) (3.1.5)\n",
            "Collecting Pygments>=2.5.1\n",
            "\u001b[?25l  Downloading https://files.pythonhosted.org/packages/2d/68/106af3ae51daf807e9cdcba6a90e518954eb8b70341cee52995540a53ead/Pygments-2.6.1-py3-none-any.whl (914kB)\n",
            "\u001b[K     |████████████████████████████████| 921kB 16.8MB/s \n",
            "\u001b[?25hRequirement already satisfied, skipping upgrade: docutils>=0.13.1 in /usr/local/lib/python3.6/dist-packages (from readme-renderer>=21.0->twine) (0.15.2)\n",
            "Collecting cryptography\n",
            "\u001b[?25l  Downloading https://files.pythonhosted.org/packages/3c/04/686efee2dcdd25aecf357992e7d9362f443eb182ecd623f882bc9f7a6bba/cryptography-2.9.2-cp35-abi3-manylinux2010_x86_64.whl (2.7MB)\n",
            "\u001b[K     |████████████████████████████████| 2.7MB 33.3MB/s \n",
            "\u001b[?25hRequirement already satisfied, skipping upgrade: packaging in /usr/local/lib/python3.6/dist-packages (from bleach>=2.1.0->readme-renderer>=21.0->twine) (20.3)\n",
            "Requirement already satisfied, skipping upgrade: webencodings in /usr/local/lib/python3.6/dist-packages (from bleach>=2.1.0->readme-renderer>=21.0->twine) (0.5.1)\n",
            "Requirement already satisfied, skipping upgrade: cffi!=1.11.3,>=1.8 in /usr/local/lib/python3.6/dist-packages (from cryptography->SecretStorage>=3; sys_platform == \"linux\"->keyring>=15.1->twine) (1.14.0)\n",
            "Requirement already satisfied, skipping upgrade: pyparsing>=2.0.2 in /usr/local/lib/python3.6/dist-packages (from packaging->bleach>=2.1.0->readme-renderer>=21.0->twine) (2.4.7)\n",
            "Requirement already satisfied, skipping upgrade: pycparser in /usr/local/lib/python3.6/dist-packages (from cffi!=1.11.3,>=1.8->cryptography->SecretStorage>=3; sys_platform == \"linux\"->keyring>=15.1->twine) (2.20)\n",
            "\u001b[31mERROR: datascience 0.10.6 has requirement folium==0.2.1, but you'll have folium 0.8.3 which is incompatible.\u001b[0m\n",
            "Installing collected packages: cryptography, jeepney, SecretStorage, keyring, pkginfo, Pygments, readme-renderer, requests-toolbelt, twine\n",
            "\u001b[33m  WARNING: The script keyring is installed in '/root/.local/bin' which is not on PATH.\n",
            "  Consider adding this directory to PATH or, if you prefer to suppress this warning, use --no-warn-script-location.\u001b[0m\n",
            "\u001b[33m  WARNING: The script pkginfo is installed in '/root/.local/bin' which is not on PATH.\n",
            "  Consider adding this directory to PATH or, if you prefer to suppress this warning, use --no-warn-script-location.\u001b[0m\n",
            "\u001b[33m  WARNING: The script pygmentize is installed in '/root/.local/bin' which is not on PATH.\n",
            "  Consider adding this directory to PATH or, if you prefer to suppress this warning, use --no-warn-script-location.\u001b[0m\n",
            "\u001b[33m  WARNING: The script twine is installed in '/root/.local/bin' which is not on PATH.\n",
            "  Consider adding this directory to PATH or, if you prefer to suppress this warning, use --no-warn-script-location.\u001b[0m\n",
            "Successfully installed Pygments-2.6.1 SecretStorage-3.1.2 cryptography-2.9.2 jeepney-0.4.3 keyring-21.2.1 pkginfo-1.5.0.1 readme-renderer-26.0 requests-toolbelt-0.9.1 twine-3.1.1\n"
          ],
          "name": "stdout"
        }
      ]
    },
    {
      "cell_type": "code",
      "metadata": {
        "id": "PHh87eLvOFJ4",
        "colab_type": "code",
        "outputId": "1486a666-5046-45b4-f26c-ceda33062cbe",
        "colab": {
          "base_uri": "https://localhost:8080/",
          "height": 258
        }
      },
      "source": [
        "!!python -m twine upload dist/*"
      ],
      "execution_count": 5,
      "outputs": [
        {
          "output_type": "execute_result",
          "data": {
            "text/plain": [
              "['Uploading distributions to https://upload.pypi.org/legacy/',\n",
              " 'Enter your username: noushadkhan01',\n",
              " '/root/.local/lib/python3.6/site-packages/twine/auth.py:68: UserWarning: No recommended backend was available. Install a recommended 3rd party backend package; or, install the keyrings.alt package if you want to use the non-recommended backends. See https://pypi.org/project/keyring for details.',\n",
              " '  warnings.warn(str(exc))',\n",
              " 'Enter your password: ',\n",
              " 'Uploading my_methods-0.0.4.tar.gz',\n",
              " '',\n",
              " '  0% 0.00/14.5k [00:00<?, ?B/s]',\n",
              " ' 55% 8.00k/14.5k [00:00<00:00, 36.5kB/s]',\n",
              " '100% 14.5k/14.5k [00:01<00:00, 11.8kB/s]',\n",
              " '',\n",
              " 'View at:',\n",
              " 'https://pypi.org/project/my-methods/0.0.4/']"
            ]
          },
          "metadata": {
            "tags": []
          },
          "execution_count": 5
        }
      ]
    },
    {
      "cell_type": "code",
      "metadata": {
        "id": "biM7A0QTo4qY",
        "colab_type": "code",
        "outputId": "7dd6e41b-0814-4eee-eb29-e3b3e6851dd5",
        "colab": {
          "base_uri": "https://localhost:8080/",
          "height": 170
        }
      },
      "source": [
        "!pip install my_methods"
      ],
      "execution_count": 6,
      "outputs": [
        {
          "output_type": "stream",
          "text": [
            "Collecting my_methods\n",
            "  Downloading https://files.pythonhosted.org/packages/8e/f3/ce54ae5c4771c1f6a502407ac0df015251384c16a646a17a79803776ab42/my_methods-0.0.4.tar.gz\n",
            "Building wheels for collected packages: my-methods\n",
            "  Building wheel for my-methods (setup.py) ... \u001b[?25l\u001b[?25hdone\n",
            "  Created wheel for my-methods: filename=my_methods-0.0.4-cp36-none-any.whl size=17029 sha256=834b3d42627eaa616c5ce0ea52bb822f3551caf5f6e07ed5e8340e0c3ec473ea\n",
            "  Stored in directory: /root/.cache/pip/wheels/ff/a7/53/3b3976f318a0a46e8273d805fa99a3827f057bfa314187b596\n",
            "Successfully built my-methods\n",
            "Installing collected packages: my-methods\n",
            "Successfully installed my-methods-0.0.4\n"
          ],
          "name": "stdout"
        }
      ]
    },
    {
      "cell_type": "code",
      "metadata": {
        "id": "IIty7NfCo59R",
        "colab_type": "code",
        "colab": {}
      },
      "source": [
        "import my_methods"
      ],
      "execution_count": 0,
      "outputs": []
    },
    {
      "cell_type": "code",
      "metadata": {
        "id": "IX7NkJCLpGH4",
        "colab_type": "code",
        "colab": {}
      },
      "source": [
        "from my_methods import choose_best_classifier"
      ],
      "execution_count": 0,
      "outputs": []
    },
    {
      "cell_type": "code",
      "metadata": {
        "id": "YoM--Mia_V3S",
        "colab_type": "code",
        "colab": {}
      },
      "source": [
        "from my_methods import matrix_multiplication_without_numpy as mm"
      ],
      "execution_count": 0,
      "outputs": []
    },
    {
      "cell_type": "code",
      "metadata": {
        "id": "udEdmOPMBrvL",
        "colab_type": "code",
        "colab": {}
      },
      "source": [
        "from my_methods.transpose_of_matrix_without_numpy import transpose_without_numpy"
      ],
      "execution_count": 0,
      "outputs": []
    },
    {
      "cell_type": "code",
      "metadata": {
        "id": "jW_ThY6UAykD",
        "colab_type": "code",
        "colab": {
          "base_uri": "https://localhost:8080/",
          "height": 34
        },
        "outputId": "538dd2c4-e6b9-4c1d-a4ac-5993faff5383"
      },
      "source": [
        "transpose_without_numpy([[1, 2], [5, 6]])"
      ],
      "execution_count": 11,
      "outputs": [
        {
          "output_type": "execute_result",
          "data": {
            "text/plain": [
              "[[1, 5], [2, 6]]"
            ]
          },
          "metadata": {
            "tags": []
          },
          "execution_count": 11
        }
      ]
    },
    {
      "cell_type": "code",
      "metadata": {
        "id": "crPF5AGyCC0W",
        "colab_type": "code",
        "colab": {
          "base_uri": "https://localhost:8080/",
          "height": 68
        },
        "outputId": "1b2e8633-d1b5-40f7-99b5-5e83ee50526d"
      },
      "source": [
        "import numpy as np\n",
        "matrix = np.array([[1, 2, 3, 4], [5, 6, 7, 8], [9, 10, 11, 12]])\n",
        "matrix"
      ],
      "execution_count": 12,
      "outputs": [
        {
          "output_type": "execute_result",
          "data": {
            "text/plain": [
              "array([[ 1,  2,  3,  4],\n",
              "       [ 5,  6,  7,  8],\n",
              "       [ 9, 10, 11, 12]])"
            ]
          },
          "metadata": {
            "tags": []
          },
          "execution_count": 12
        }
      ]
    },
    {
      "cell_type": "code",
      "metadata": {
        "id": "dep_ZGWFB0Pf",
        "colab_type": "code",
        "colab": {
          "base_uri": "https://localhost:8080/",
          "height": 85
        },
        "outputId": "5f710e63-9a8e-4356-972c-fc121226588d"
      },
      "source": [
        "np.array(transpose_without_numpy(matrix))"
      ],
      "execution_count": 13,
      "outputs": [
        {
          "output_type": "execute_result",
          "data": {
            "text/plain": [
              "array([[ 1,  5,  9],\n",
              "       [ 2,  6, 10],\n",
              "       [ 3,  7, 11],\n",
              "       [ 4,  8, 12]])"
            ]
          },
          "metadata": {
            "tags": []
          },
          "execution_count": 13
        }
      ]
    },
    {
      "cell_type": "code",
      "metadata": {
        "id": "dAL5fuqBB9RB",
        "colab_type": "code",
        "colab": {
          "base_uri": "https://localhost:8080/",
          "height": 51
        },
        "outputId": "c77d1553-6d5c-4937-8684-cd09a824da8c"
      },
      "source": [
        "matrix = np.array([[5, 6, 7, 8, 9], [10, 11, 12, 13, 14]])\n",
        "matrix"
      ],
      "execution_count": 15,
      "outputs": [
        {
          "output_type": "execute_result",
          "data": {
            "text/plain": [
              "array([[ 5,  6,  7,  8,  9],\n",
              "       [10, 11, 12, 13, 14]])"
            ]
          },
          "metadata": {
            "tags": []
          },
          "execution_count": 15
        }
      ]
    },
    {
      "cell_type": "code",
      "metadata": {
        "id": "AJkud1q8DS8S",
        "colab_type": "code",
        "colab": {
          "base_uri": "https://localhost:8080/",
          "height": 102
        },
        "outputId": "b9f596d6-42d3-4b37-a810-1131579584e5"
      },
      "source": [
        "np.array(transpose_without_numpy(matrix))"
      ],
      "execution_count": 16,
      "outputs": [
        {
          "output_type": "execute_result",
          "data": {
            "text/plain": [
              "array([[ 5, 10],\n",
              "       [ 6, 11],\n",
              "       [ 7, 12],\n",
              "       [ 8, 13],\n",
              "       [ 9, 14]])"
            ]
          },
          "metadata": {
            "tags": []
          },
          "execution_count": 16
        }
      ]
    },
    {
      "cell_type": "code",
      "metadata": {
        "id": "36xjwyxTMFtw",
        "colab_type": "code",
        "colab": {}
      },
      "source": [
        ""
      ],
      "execution_count": 0,
      "outputs": []
    }
  ]
}