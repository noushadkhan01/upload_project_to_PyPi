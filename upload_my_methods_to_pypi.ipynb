{
  "nbformat": 4,
  "nbformat_minor": 0,
  "metadata": {
    "colab": {
      "name": "upload my_methods to pypi.ipynb",
      "provenance": [],
      "authorship_tag": "ABX9TyOxhZleeo+HJLMmBai0OHkY",
      "include_colab_link": true
    },
    "kernelspec": {
      "name": "python3",
      "display_name": "Python 3"
    }
  },
  "cells": [
    {
      "cell_type": "markdown",
      "metadata": {
        "id": "view-in-github",
        "colab_type": "text"
      },
      "source": [
        "<a href=\"https://colab.research.google.com/github/noushadkhan01/upload_project_to_PyPi/blob/master/upload_my_methods_to_pypi.ipynb\" target=\"_parent\"><img src=\"https://colab.research.google.com/assets/colab-badge.svg\" alt=\"Open In Colab\"/></a>"
      ]
    },
    {
      "cell_type": "markdown",
      "metadata": {
        "id": "QAY2H2iyehw8",
        "colab_type": "text"
      },
      "source": [
        "[see medium article refrence](https://medium.com/@joel.barmettler/how-to-upload-your-python-package-to-pypi-65edc5fe9c56)\n",
        "and \n",
        "[pypi org refrence](https://packaging.python.org/tutorials/packaging-projects/)"
      ]
    },
    {
      "cell_type": "code",
      "metadata": {
        "id": "UachebgBNGB4",
        "colab_type": "code",
        "colab": {
          "base_uri": "https://localhost:8080/",
          "height": 136
        },
        "outputId": "235e7043-fbf0-43ba-e7d8-e4e9760cb3f2"
      },
      "source": [
        "!git clone https://github.com/noushadkhan01/my_methods"
      ],
      "execution_count": 12,
      "outputs": [
        {
          "output_type": "stream",
          "text": [
            "Cloning into 'my_methods'...\n",
            "remote: Enumerating objects: 197, done.\u001b[K\n",
            "remote: Counting objects: 100% (197/197), done.\u001b[K\n",
            "remote: Compressing objects: 100% (196/196), done.\u001b[K\n",
            "remote: Total 504 (delta 111), reused 2 (delta 0), pack-reused 307\u001b[K\n",
            "Receiving objects: 100% (504/504), 130.85 KiB | 377.00 KiB/s, done.\n",
            "Resolving deltas: 100% (296/296), done.\n"
          ],
          "name": "stdout"
        }
      ]
    },
    {
      "cell_type": "code",
      "metadata": {
        "id": "h6GgtHZTNJWQ",
        "colab_type": "code",
        "colab": {
          "base_uri": "https://localhost:8080/",
          "height": 34
        },
        "outputId": "b1cbf90b-eabc-4987-8a08-15a1141ac8bb"
      },
      "source": [
        "%cd my_methods"
      ],
      "execution_count": 13,
      "outputs": [
        {
          "output_type": "stream",
          "text": [
            "/content/matrix_transpose/my_methods\n"
          ],
          "name": "stdout"
        }
      ]
    },
    {
      "cell_type": "code",
      "metadata": {
        "id": "N-8HG7rBN2W2",
        "colab_type": "code",
        "colab": {
          "base_uri": "https://localhost:8080/",
          "height": 731
        },
        "outputId": "eafcfa07-ca8d-42f4-d10e-aeaf452ffaec"
      },
      "source": [
        "!python setup.py sdist"
      ],
      "execution_count": 14,
      "outputs": [
        {
          "output_type": "stream",
          "text": [
            "running sdist\n",
            "running egg_info\n",
            "creating my_methods.egg-info\n",
            "writing my_methods.egg-info/PKG-INFO\n",
            "writing dependency_links to my_methods.egg-info/dependency_links.txt\n",
            "writing top-level names to my_methods.egg-info/top_level.txt\n",
            "writing manifest file 'my_methods.egg-info/SOURCES.txt'\n",
            "writing manifest file 'my_methods.egg-info/SOURCES.txt'\n",
            "running check\n",
            "creating my_methods-0.0.1\n",
            "creating my_methods-0.0.1/my_methods\n",
            "creating my_methods-0.0.1/my_methods.egg-info\n",
            "copying files to my_methods-0.0.1...\n",
            "copying LICENSE.txt -> my_methods-0.0.1\n",
            "copying README.md -> my_methods-0.0.1\n",
            "copying setup.cfg -> my_methods-0.0.1\n",
            "copying setup.py -> my_methods-0.0.1\n",
            "copying my_methods/__init__.py -> my_methods-0.0.1/my_methods\n",
            "copying my_methods/choose_best_classifier.py -> my_methods-0.0.1/my_methods\n",
            "copying my_methods/choose_best_regressor.py -> my_methods-0.0.1/my_methods\n",
            "copying my_methods/choose_optimal_number_of_clusters.py -> my_methods-0.0.1/my_methods\n",
            "copying my_methods/get_cross_validation.py -> my_methods-0.0.1/my_methods\n",
            "copying my_methods/initialize_weights.py -> my_methods-0.0.1/my_methods\n",
            "copying my_methods/matrix_multiplication_without_numpy.py -> my_methods-0.0.1/my_methods\n",
            "copying my_methods/my_backward_propagation.py -> my_methods-0.0.1/my_methods\n",
            "copying my_methods/my_cap_curve.py -> my_methods-0.0.1/my_methods\n",
            "copying my_methods/my_dummy_variable_creator.py -> my_methods-0.0.1/my_methods\n",
            "copying my_methods/my_global_variables.py -> my_methods-0.0.1/my_methods\n",
            "copying my_methods/my_roc_curve.py -> my_methods-0.0.1/my_methods\n",
            "copying my_methods/plot_text.py -> my_methods-0.0.1/my_methods\n",
            "copying my_methods/print_model_results.py -> my_methods-0.0.1/my_methods\n",
            "copying my_methods/sgd_neural_net.py -> my_methods-0.0.1/my_methods\n",
            "copying my_methods/transpose_of_matrix_without_numpy.py -> my_methods-0.0.1/my_methods\n",
            "copying my_methods/visualise_classifier_performance.py -> my_methods-0.0.1/my_methods\n",
            "copying my_methods.egg-info/PKG-INFO -> my_methods-0.0.1/my_methods.egg-info\n",
            "copying my_methods.egg-info/SOURCES.txt -> my_methods-0.0.1/my_methods.egg-info\n",
            "copying my_methods.egg-info/dependency_links.txt -> my_methods-0.0.1/my_methods.egg-info\n",
            "copying my_methods.egg-info/top_level.txt -> my_methods-0.0.1/my_methods.egg-info\n",
            "Writing my_methods-0.0.1/setup.cfg\n",
            "creating dist\n",
            "Creating tar archive\n",
            "removing 'my_methods-0.0.1' (and everything under it)\n"
          ],
          "name": "stdout"
        }
      ]
    },
    {
      "cell_type": "code",
      "metadata": {
        "id": "QSFimmo8N8ll",
        "colab_type": "code",
        "colab": {
          "base_uri": "https://localhost:8080/",
          "height": 479
        },
        "outputId": "edb6b5f5-e050-447b-ee7c-25354308998b"
      },
      "source": [
        "!python3 -m pip install --user --upgrade twine"
      ],
      "execution_count": 15,
      "outputs": [
        {
          "output_type": "stream",
          "text": [
            "Requirement already up-to-date: twine in /root/.local/lib/python3.6/site-packages (3.1.1)\n",
            "Requirement already satisfied, skipping upgrade: setuptools>=0.7.0 in /usr/local/lib/python3.6/dist-packages (from twine) (46.1.3)\n",
            "Requirement already satisfied, skipping upgrade: importlib-metadata; python_version < \"3.8\" in /usr/local/lib/python3.6/dist-packages (from twine) (1.6.0)\n",
            "Requirement already satisfied, skipping upgrade: readme-renderer>=21.0 in /root/.local/lib/python3.6/site-packages (from twine) (26.0)\n",
            "Requirement already satisfied, skipping upgrade: tqdm>=4.14 in /usr/local/lib/python3.6/dist-packages (from twine) (4.41.1)\n",
            "Requirement already satisfied, skipping upgrade: requests-toolbelt!=0.9.0,>=0.8.0 in /root/.local/lib/python3.6/site-packages (from twine) (0.9.1)\n",
            "Requirement already satisfied, skipping upgrade: requests>=2.20 in /usr/local/lib/python3.6/dist-packages (from twine) (2.23.0)\n",
            "Requirement already satisfied, skipping upgrade: keyring>=15.1 in /root/.local/lib/python3.6/site-packages (from twine) (21.2.1)\n",
            "Requirement already satisfied, skipping upgrade: pkginfo>=1.4.2 in /root/.local/lib/python3.6/site-packages (from twine) (1.5.0.1)\n",
            "Requirement already satisfied, skipping upgrade: zipp>=0.5 in /usr/local/lib/python3.6/dist-packages (from importlib-metadata; python_version < \"3.8\"->twine) (3.1.0)\n",
            "Requirement already satisfied, skipping upgrade: docutils>=0.13.1 in /usr/local/lib/python3.6/dist-packages (from readme-renderer>=21.0->twine) (0.15.2)\n",
            "Requirement already satisfied, skipping upgrade: six in /usr/local/lib/python3.6/dist-packages (from readme-renderer>=21.0->twine) (1.12.0)\n",
            "Requirement already satisfied, skipping upgrade: Pygments>=2.5.1 in /root/.local/lib/python3.6/site-packages (from readme-renderer>=21.0->twine) (2.6.1)\n",
            "Requirement already satisfied, skipping upgrade: bleach>=2.1.0 in /usr/local/lib/python3.6/dist-packages (from readme-renderer>=21.0->twine) (3.1.5)\n",
            "Requirement already satisfied, skipping upgrade: certifi>=2017.4.17 in /usr/local/lib/python3.6/dist-packages (from requests>=2.20->twine) (2020.4.5.1)\n",
            "Requirement already satisfied, skipping upgrade: urllib3!=1.25.0,!=1.25.1,<1.26,>=1.21.1 in /usr/local/lib/python3.6/dist-packages (from requests>=2.20->twine) (1.24.3)\n",
            "Requirement already satisfied, skipping upgrade: chardet<4,>=3.0.2 in /usr/local/lib/python3.6/dist-packages (from requests>=2.20->twine) (3.0.4)\n",
            "Requirement already satisfied, skipping upgrade: idna<3,>=2.5 in /usr/local/lib/python3.6/dist-packages (from requests>=2.20->twine) (2.9)\n",
            "Requirement already satisfied, skipping upgrade: jeepney>=0.4.2; sys_platform == \"linux\" in /root/.local/lib/python3.6/site-packages (from keyring>=15.1->twine) (0.4.3)\n",
            "Requirement already satisfied, skipping upgrade: SecretStorage>=3; sys_platform == \"linux\" in /root/.local/lib/python3.6/site-packages (from keyring>=15.1->twine) (3.1.2)\n",
            "Requirement already satisfied, skipping upgrade: packaging in /usr/local/lib/python3.6/dist-packages (from bleach>=2.1.0->readme-renderer>=21.0->twine) (20.3)\n",
            "Requirement already satisfied, skipping upgrade: webencodings in /usr/local/lib/python3.6/dist-packages (from bleach>=2.1.0->readme-renderer>=21.0->twine) (0.5.1)\n",
            "Requirement already satisfied, skipping upgrade: cryptography in /root/.local/lib/python3.6/site-packages (from SecretStorage>=3; sys_platform == \"linux\"->keyring>=15.1->twine) (2.9.2)\n",
            "Requirement already satisfied, skipping upgrade: pyparsing>=2.0.2 in /usr/local/lib/python3.6/dist-packages (from packaging->bleach>=2.1.0->readme-renderer>=21.0->twine) (2.4.7)\n",
            "Requirement already satisfied, skipping upgrade: cffi!=1.11.3,>=1.8 in /usr/local/lib/python3.6/dist-packages (from cryptography->SecretStorage>=3; sys_platform == \"linux\"->keyring>=15.1->twine) (1.14.0)\n",
            "Requirement already satisfied, skipping upgrade: pycparser in /usr/local/lib/python3.6/dist-packages (from cffi!=1.11.3,>=1.8->cryptography->SecretStorage>=3; sys_platform == \"linux\"->keyring>=15.1->twine) (2.20)\n"
          ],
          "name": "stdout"
        }
      ]
    },
    {
      "cell_type": "code",
      "metadata": {
        "id": "PHh87eLvOFJ4",
        "colab_type": "code",
        "colab": {
          "base_uri": "https://localhost:8080/",
          "height": 258
        },
        "outputId": "c79307da-2a22-4d53-e743-acb3291a3674"
      },
      "source": [
        "!!python -m twine upload dist/*"
      ],
      "execution_count": 16,
      "outputs": [
        {
          "output_type": "execute_result",
          "data": {
            "text/plain": [
              "['Uploading distributions to https://upload.pypi.org/legacy/',\n",
              " 'Enter your username: noushadkhan01',\n",
              " '/root/.local/lib/python3.6/site-packages/twine/auth.py:68: UserWarning: No recommended backend was available. Install a recommended 3rd party backend package; or, install the keyrings.alt package if you want to use the non-recommended backends. See https://pypi.org/project/keyring for details.',\n",
              " '  warnings.warn(str(exc))',\n",
              " 'Enter your password: ',\n",
              " 'Uploading my_methods-0.0.1.tar.gz',\n",
              " '',\n",
              " '  0% 0.00/14.6k [00:00<?, ?B/s]',\n",
              " ' 55% 8.00k/14.6k [00:00<00:00, 14.0kB/s]',\n",
              " '100% 14.6k/14.6k [00:02<00:00, 5.22kB/s]',\n",
              " '',\n",
              " 'View at:',\n",
              " 'https://pypi.org/project/my-methods/0.0.1/']"
            ]
          },
          "metadata": {
            "tags": []
          },
          "execution_count": 16
        }
      ]
    },
    {
      "cell_type": "code",
      "metadata": {
        "id": "biM7A0QTo4qY",
        "colab_type": "code",
        "colab": {
          "base_uri": "https://localhost:8080/",
          "height": 170
        },
        "outputId": "ccbdeb0f-52ea-4ead-a20b-ccb2c53c3f6d"
      },
      "source": [
        "!pip install my_methods"
      ],
      "execution_count": 17,
      "outputs": [
        {
          "output_type": "stream",
          "text": [
            "Collecting my_methods\n",
            "  Downloading https://files.pythonhosted.org/packages/81/0c/fefe917d45a234a280f9409819dbbfe2c3969de805354973a5dbc9a5af05/my_methods-0.0.1.tar.gz\n",
            "Building wheels for collected packages: my-methods\n",
            "  Building wheel for my-methods (setup.py) ... \u001b[?25l\u001b[?25hdone\n",
            "  Created wheel for my-methods: filename=my_methods-0.0.1-cp36-none-any.whl size=17299 sha256=01dc91d5715a18ac2d73360e37f2e86d10e99e6098b9f13142aeb20de77b3fa0\n",
            "  Stored in directory: /root/.cache/pip/wheels/02/6b/1e/d1e2d8b0a7e17cc94ec656af9cba7dccee82cb979286357235\n",
            "Successfully built my-methods\n",
            "Installing collected packages: my-methods\n",
            "Successfully installed my-methods-0.0.1\n"
          ],
          "name": "stdout"
        }
      ]
    },
    {
      "cell_type": "code",
      "metadata": {
        "id": "IIty7NfCo59R",
        "colab_type": "code",
        "colab": {}
      },
      "source": [
        "import my_methods"
      ],
      "execution_count": 0,
      "outputs": []
    },
    {
      "cell_type": "code",
      "metadata": {
        "id": "IX7NkJCLpGH4",
        "colab_type": "code",
        "colab": {}
      },
      "source": [
        ""
      ],
      "execution_count": 0,
      "outputs": []
    }
  ]
}