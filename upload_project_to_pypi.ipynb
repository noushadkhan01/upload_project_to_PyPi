{
  "nbformat": 4,
  "nbformat_minor": 0,
  "metadata": {
    "colab": {
      "name": "upload project to pypi.ipynb",
      "provenance": [],
      "authorship_tag": "ABX9TyMlKVTn1I+FR/92JD7OfvFx",
      "include_colab_link": true
    },
    "kernelspec": {
      "name": "python3",
      "display_name": "Python 3"
    }
  },
  "cells": [
    {
      "cell_type": "markdown",
      "metadata": {
        "id": "view-in-github",
        "colab_type": "text"
      },
      "source": [
        "<a href=\"https://colab.research.google.com/github/noushadkhan01/upload_project_to_PyPi/blob/master/upload_project_to_pypi.ipynb\" target=\"_parent\"><img src=\"https://colab.research.google.com/assets/colab-badge.svg\" alt=\"Open In Colab\"/></a>"
      ]
    },
    {
      "cell_type": "markdown",
      "metadata": {
        "id": "QAY2H2iyehw8",
        "colab_type": "text"
      },
      "source": [
        "[see medium article refrence](https://medium.com/@joel.barmettler/how-to-upload-your-python-package-to-pypi-65edc5fe9c56)\n",
        "and \n",
        "[pypi org refrence](https://packaging.python.org/tutorials/packaging-projects/)"
      ]
    },
    {
      "cell_type": "code",
      "metadata": {
        "id": "UachebgBNGB4",
        "colab_type": "code",
        "colab": {
          "base_uri": "https://localhost:8080/",
          "height": 119
        },
        "outputId": "65ac8483-5149-4ed7-ea69-a5705313536d"
      },
      "source": [
        "!git clone https://github.com/noushadkhan01/matrix_transpose"
      ],
      "execution_count": 1,
      "outputs": [
        {
          "output_type": "stream",
          "text": [
            "Cloning into 'matrix_transpose'...\n",
            "remote: Enumerating objects: 89, done.\u001b[K\n",
            "remote: Counting objects: 100% (89/89), done.\u001b[K\n",
            "remote: Compressing objects: 100% (82/82), done.\u001b[K\n",
            "remote: Total 89 (delta 34), reused 0 (delta 0), pack-reused 0\u001b[K\n",
            "Unpacking objects: 100% (89/89), done.\n"
          ],
          "name": "stdout"
        }
      ]
    },
    {
      "cell_type": "code",
      "metadata": {
        "id": "h6GgtHZTNJWQ",
        "colab_type": "code",
        "colab": {
          "base_uri": "https://localhost:8080/",
          "height": 34
        },
        "outputId": "ae059487-48de-4fef-dfdd-5d00a3f49766"
      },
      "source": [
        "%cd matrix_transpose"
      ],
      "execution_count": 2,
      "outputs": [
        {
          "output_type": "stream",
          "text": [
            "/content/matrix_transpose\n"
          ],
          "name": "stdout"
        }
      ]
    },
    {
      "cell_type": "code",
      "metadata": {
        "id": "N-8HG7rBN2W2",
        "colab_type": "code",
        "colab": {
          "base_uri": "https://localhost:8080/",
          "height": 476
        },
        "outputId": "cf64a4dd-8eb9-4c84-8e46-117488037be0"
      },
      "source": [
        "!python setup.py sdist"
      ],
      "execution_count": 3,
      "outputs": [
        {
          "output_type": "stream",
          "text": [
            "running sdist\n",
            "running egg_info\n",
            "creating matrix_transpose.egg-info\n",
            "writing matrix_transpose.egg-info/PKG-INFO\n",
            "writing dependency_links to matrix_transpose.egg-info/dependency_links.txt\n",
            "writing top-level names to matrix_transpose.egg-info/top_level.txt\n",
            "writing manifest file 'matrix_transpose.egg-info/SOURCES.txt'\n",
            "writing manifest file 'matrix_transpose.egg-info/SOURCES.txt'\n",
            "running check\n",
            "creating matrix_transpose-1.5\n",
            "creating matrix_transpose-1.5/matrix_transpose\n",
            "creating matrix_transpose-1.5/matrix_transpose.egg-info\n",
            "copying files to matrix_transpose-1.5...\n",
            "copying LICENSE.txt -> matrix_transpose-1.5\n",
            "copying README.md -> matrix_transpose-1.5\n",
            "copying setup.cfg -> matrix_transpose-1.5\n",
            "copying setup.py -> matrix_transpose-1.5\n",
            "copying matrix_transpose/__init__.py -> matrix_transpose-1.5/matrix_transpose\n",
            "copying matrix_transpose/transpose_without_numpy.py -> matrix_transpose-1.5/matrix_transpose\n",
            "copying matrix_transpose.egg-info/PKG-INFO -> matrix_transpose-1.5/matrix_transpose.egg-info\n",
            "copying matrix_transpose.egg-info/SOURCES.txt -> matrix_transpose-1.5/matrix_transpose.egg-info\n",
            "copying matrix_transpose.egg-info/dependency_links.txt -> matrix_transpose-1.5/matrix_transpose.egg-info\n",
            "copying matrix_transpose.egg-info/top_level.txt -> matrix_transpose-1.5/matrix_transpose.egg-info\n",
            "Writing matrix_transpose-1.5/setup.cfg\n",
            "creating dist\n",
            "Creating tar archive\n",
            "removing 'matrix_transpose-1.5' (and everything under it)\n"
          ],
          "name": "stdout"
        }
      ]
    },
    {
      "cell_type": "code",
      "metadata": {
        "id": "QSFimmo8N8ll",
        "colab_type": "code",
        "colab": {
          "base_uri": "https://localhost:8080/",
          "height": 870
        },
        "outputId": "963644d4-cc0d-4e2f-a1b0-968118047dc0"
      },
      "source": [
        "!python3 -m pip install --user --upgrade twine"
      ],
      "execution_count": 4,
      "outputs": [
        {
          "output_type": "stream",
          "text": [
            "Collecting twine\n",
            "  Downloading https://files.pythonhosted.org/packages/99/94/08b3b933c611416dad89c8abcc94a6d6c29e8609987235b6e7f10b42de82/twine-3.1.1-py3-none-any.whl\n",
            "Collecting pkginfo>=1.4.2\n",
            "  Downloading https://files.pythonhosted.org/packages/e6/d5/451b913307b478c49eb29084916639dc53a88489b993530fed0a66bab8b9/pkginfo-1.5.0.1-py2.py3-none-any.whl\n",
            "Collecting requests-toolbelt!=0.9.0,>=0.8.0\n",
            "\u001b[?25l  Downloading https://files.pythonhosted.org/packages/60/ef/7681134338fc097acef8d9b2f8abe0458e4d87559c689a8c306d0957ece5/requests_toolbelt-0.9.1-py2.py3-none-any.whl (54kB)\n",
            "\r\u001b[K     |██████                          | 10kB 23.2MB/s eta 0:00:01\r\u001b[K     |████████████                    | 20kB 16.6MB/s eta 0:00:01\r\u001b[K     |██████████████████              | 30kB 12.5MB/s eta 0:00:01\r\u001b[K     |████████████████████████▏       | 40kB 12.2MB/s eta 0:00:01\r\u001b[K     |██████████████████████████████▏ | 51kB 9.5MB/s eta 0:00:01\r\u001b[K     |████████████████████████████████| 61kB 5.8MB/s \n",
            "\u001b[?25hCollecting keyring>=15.1\n",
            "  Downloading https://files.pythonhosted.org/packages/a8/5e/d13b9feb235d042321a239ac8bc85e90cf3bbe49090c6f1383ac3fd53e0e/keyring-21.2.1-py3-none-any.whl\n",
            "Requirement already satisfied, skipping upgrade: importlib-metadata; python_version < \"3.8\" in /usr/local/lib/python3.6/dist-packages (from twine) (1.6.0)\n",
            "Requirement already satisfied, skipping upgrade: setuptools>=0.7.0 in /usr/local/lib/python3.6/dist-packages (from twine) (46.1.3)\n",
            "Requirement already satisfied, skipping upgrade: requests>=2.20 in /usr/local/lib/python3.6/dist-packages (from twine) (2.23.0)\n",
            "Collecting readme-renderer>=21.0\n",
            "  Downloading https://files.pythonhosted.org/packages/54/e4/ed43056d80a4fcc3667e543a59cc6beaf0a3c0eade837e5591e82ad3c25a/readme_renderer-26.0-py2.py3-none-any.whl\n",
            "Requirement already satisfied, skipping upgrade: tqdm>=4.14 in /usr/local/lib/python3.6/dist-packages (from twine) (4.41.1)\n",
            "Collecting jeepney>=0.4.2; sys_platform == \"linux\"\n",
            "  Downloading https://files.pythonhosted.org/packages/79/31/2e8d42727595faf224c6dbb748c32b192e212f25495fe841fb7ce8e168b8/jeepney-0.4.3-py3-none-any.whl\n",
            "Collecting SecretStorage>=3; sys_platform == \"linux\"\n",
            "  Downloading https://files.pythonhosted.org/packages/c3/50/8a02cad020e949e6d7105f5f4530d41e3febcaa5b73f8f2148aacb3aeba5/SecretStorage-3.1.2-py3-none-any.whl\n",
            "Requirement already satisfied, skipping upgrade: zipp>=0.5 in /usr/local/lib/python3.6/dist-packages (from importlib-metadata; python_version < \"3.8\"->twine) (3.1.0)\n",
            "Requirement already satisfied, skipping upgrade: certifi>=2017.4.17 in /usr/local/lib/python3.6/dist-packages (from requests>=2.20->twine) (2020.4.5.1)\n",
            "Requirement already satisfied, skipping upgrade: idna<3,>=2.5 in /usr/local/lib/python3.6/dist-packages (from requests>=2.20->twine) (2.9)\n",
            "Requirement already satisfied, skipping upgrade: urllib3!=1.25.0,!=1.25.1,<1.26,>=1.21.1 in /usr/local/lib/python3.6/dist-packages (from requests>=2.20->twine) (1.24.3)\n",
            "Requirement already satisfied, skipping upgrade: chardet<4,>=3.0.2 in /usr/local/lib/python3.6/dist-packages (from requests>=2.20->twine) (3.0.4)\n",
            "Collecting Pygments>=2.5.1\n",
            "\u001b[?25l  Downloading https://files.pythonhosted.org/packages/2d/68/106af3ae51daf807e9cdcba6a90e518954eb8b70341cee52995540a53ead/Pygments-2.6.1-py3-none-any.whl (914kB)\n",
            "\u001b[K     |████████████████████████████████| 921kB 16.1MB/s \n",
            "\u001b[?25hRequirement already satisfied, skipping upgrade: six in /usr/local/lib/python3.6/dist-packages (from readme-renderer>=21.0->twine) (1.12.0)\n",
            "Requirement already satisfied, skipping upgrade: docutils>=0.13.1 in /usr/local/lib/python3.6/dist-packages (from readme-renderer>=21.0->twine) (0.15.2)\n",
            "Requirement already satisfied, skipping upgrade: bleach>=2.1.0 in /usr/local/lib/python3.6/dist-packages (from readme-renderer>=21.0->twine) (3.1.5)\n",
            "Collecting cryptography\n",
            "\u001b[?25l  Downloading https://files.pythonhosted.org/packages/3c/04/686efee2dcdd25aecf357992e7d9362f443eb182ecd623f882bc9f7a6bba/cryptography-2.9.2-cp35-abi3-manylinux2010_x86_64.whl (2.7MB)\n",
            "\u001b[K     |████████████████████████████████| 2.7MB 28.3MB/s \n",
            "\u001b[?25hRequirement already satisfied, skipping upgrade: webencodings in /usr/local/lib/python3.6/dist-packages (from bleach>=2.1.0->readme-renderer>=21.0->twine) (0.5.1)\n",
            "Requirement already satisfied, skipping upgrade: packaging in /usr/local/lib/python3.6/dist-packages (from bleach>=2.1.0->readme-renderer>=21.0->twine) (20.3)\n",
            "Requirement already satisfied, skipping upgrade: cffi!=1.11.3,>=1.8 in /usr/local/lib/python3.6/dist-packages (from cryptography->SecretStorage>=3; sys_platform == \"linux\"->keyring>=15.1->twine) (1.14.0)\n",
            "Requirement already satisfied, skipping upgrade: pyparsing>=2.0.2 in /usr/local/lib/python3.6/dist-packages (from packaging->bleach>=2.1.0->readme-renderer>=21.0->twine) (2.4.7)\n",
            "Requirement already satisfied, skipping upgrade: pycparser in /usr/local/lib/python3.6/dist-packages (from cffi!=1.11.3,>=1.8->cryptography->SecretStorage>=3; sys_platform == \"linux\"->keyring>=15.1->twine) (2.20)\n",
            "\u001b[31mERROR: datascience 0.10.6 has requirement folium==0.2.1, but you'll have folium 0.8.3 which is incompatible.\u001b[0m\n",
            "Installing collected packages: pkginfo, requests-toolbelt, jeepney, cryptography, SecretStorage, keyring, Pygments, readme-renderer, twine\n",
            "\u001b[33m  WARNING: The script pkginfo is installed in '/root/.local/bin' which is not on PATH.\n",
            "  Consider adding this directory to PATH or, if you prefer to suppress this warning, use --no-warn-script-location.\u001b[0m\n",
            "\u001b[33m  WARNING: The script keyring is installed in '/root/.local/bin' which is not on PATH.\n",
            "  Consider adding this directory to PATH or, if you prefer to suppress this warning, use --no-warn-script-location.\u001b[0m\n",
            "\u001b[33m  WARNING: The script pygmentize is installed in '/root/.local/bin' which is not on PATH.\n",
            "  Consider adding this directory to PATH or, if you prefer to suppress this warning, use --no-warn-script-location.\u001b[0m\n",
            "\u001b[33m  WARNING: The script twine is installed in '/root/.local/bin' which is not on PATH.\n",
            "  Consider adding this directory to PATH or, if you prefer to suppress this warning, use --no-warn-script-location.\u001b[0m\n",
            "Successfully installed Pygments-2.6.1 SecretStorage-3.1.2 cryptography-2.9.2 jeepney-0.4.3 keyring-21.2.1 pkginfo-1.5.0.1 readme-renderer-26.0 requests-toolbelt-0.9.1 twine-3.1.1\n"
          ],
          "name": "stdout"
        }
      ]
    },
    {
      "cell_type": "code",
      "metadata": {
        "id": "PHh87eLvOFJ4",
        "colab_type": "code",
        "colab": {
          "base_uri": "https://localhost:8080/",
          "height": 258
        },
        "outputId": "2cf59f79-a37c-4f81-816c-27de4a7e623a"
      },
      "source": [
        "!!python -m twine upload dist/*"
      ],
      "execution_count": 5,
      "outputs": [
        {
          "output_type": "execute_result",
          "data": {
            "text/plain": [
              "['Uploading distributions to https://upload.pypi.org/legacy/',\n",
              " 'Enter your username: noushadkhan01',\n",
              " '/root/.local/lib/python3.6/site-packages/twine/auth.py:68: UserWarning: No recommended backend was available. Install a recommended 3rd party backend package; or, install the keyrings.alt package if you want to use the non-recommended backends. See https://pypi.org/project/keyring for details.',\n",
              " '  warnings.warn(str(exc))',\n",
              " 'Enter your password: ',\n",
              " 'Uploading matrix_transpose-1.5.tar.gz',\n",
              " '',\n",
              " '  0% 0.00/5.23k [00:00<?, ?B/s]',\n",
              " '100% 5.23k/5.23k [00:00<00:00, 8.73kB/s]',\n",
              " '100% 5.23k/5.23k [00:01<00:00, 3.50kB/s]',\n",
              " '',\n",
              " 'View at:',\n",
              " 'https://pypi.org/project/matrix-transpose/1.5/']"
            ]
          },
          "metadata": {
            "tags": []
          },
          "execution_count": 5
        }
      ]
    },
    {
      "cell_type": "code",
      "metadata": {
        "id": "p2BkdYGROaIi",
        "colab_type": "code",
        "colab": {
          "base_uri": "https://localhost:8080/",
          "height": 190
        },
        "outputId": "de80c0c9-eb09-4207-f08d-fe08542b19b7"
      },
      "source": [
        "!pip install matrix_transpose"
      ],
      "execution_count": 6,
      "outputs": [
        {
          "output_type": "stream",
          "text": [
            "Collecting matrix_transpose\n",
            "  Downloading https://files.pythonhosted.org/packages/32/32/a330698898328c69a3b794a70a48f4ce06e1fa28d7ce5b8d24fd5bf7c676/matrix_transpose-1.5.tar.gz\n",
            "Building wheels for collected packages: matrix-transpose\n",
            "  Building wheel for matrix-transpose (setup.py) ... \u001b[?25l\u001b[?25hdone\n",
            "  Created wheel for matrix-transpose: filename=matrix_transpose-1.5-cp36-none-any.whl size=2857 sha256=f2e2deeed64eab21ee1d24949dfa0d39c7d7b7618212b52cfe125d5973b072d2\n",
            "  Stored in directory: /root/.cache/pip/wheels/c5/21/0c/bb806901fe462305f1344356e4e43d5e4f1a4248d0728dc891\n",
            "Successfully built matrix-transpose\n",
            "Installing collected packages: matrix-transpose\n",
            "Successfully installed matrix-transpose-1.5\n"
          ],
          "name": "stdout"
        }
      ]
    },
    {
      "cell_type": "code",
      "metadata": {
        "id": "7O-nb17oTfCP",
        "colab_type": "code",
        "colab": {}
      },
      "source": [
        "import matrix_transpose"
      ],
      "execution_count": 0,
      "outputs": []
    },
    {
      "cell_type": "code",
      "metadata": {
        "id": "o6krIW8vTirI",
        "colab_type": "code",
        "colab": {}
      },
      "source": [
        "from matrix_transpose import transpose_without_numpy"
      ],
      "execution_count": 0,
      "outputs": []
    },
    {
      "cell_type": "code",
      "metadata": {
        "id": "TU5A1tmfTnjo",
        "colab_type": "code",
        "colab": {}
      },
      "source": [
        "from matrix_transpose.transpose_without_numpy import transpose_without_numpy"
      ],
      "execution_count": 0,
      "outputs": []
    },
    {
      "cell_type": "code",
      "metadata": {
        "id": "SVFYJie5TuBF",
        "colab_type": "code",
        "colab": {
          "base_uri": "https://localhost:8080/",
          "height": 34
        },
        "outputId": "c72ebd2a-554c-4f8b-9f09-9f127c45a4bc"
      },
      "source": [
        "transpose_without_numpy([[1, 2], [3, 4]])"
      ],
      "execution_count": 10,
      "outputs": [
        {
          "output_type": "execute_result",
          "data": {
            "text/plain": [
              "[[1, 3], [2, 4]]"
            ]
          },
          "metadata": {
            "tags": []
          },
          "execution_count": 10
        }
      ]
    },
    {
      "cell_type": "code",
      "metadata": {
        "id": "3PiwzoEYTyG4",
        "colab_type": "code",
        "colab": {}
      },
      "source": [
        ""
      ],
      "execution_count": 0,
      "outputs": []
    }
  ]
}