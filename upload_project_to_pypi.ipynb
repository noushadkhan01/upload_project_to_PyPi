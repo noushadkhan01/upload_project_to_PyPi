{
  "nbformat": 4,
  "nbformat_minor": 0,
  "metadata": {
    "colab": {
      "name": "upload project to pypi.ipynb",
      "provenance": [],
      "authorship_tag": "ABX9TyN4Smgd2QJRV6BCIsQhbZz8",
      "include_colab_link": true
    },
    "kernelspec": {
      "name": "python3",
      "display_name": "Python 3"
    }
  },
  "cells": [
    {
      "cell_type": "markdown",
      "metadata": {
        "id": "view-in-github",
        "colab_type": "text"
      },
      "source": [
        "<a href=\"https://colab.research.google.com/github/noushadkhan01/upload_project_to_PyPi/blob/master/upload_project_to_pypi.ipynb\" target=\"_parent\"><img src=\"https://colab.research.google.com/assets/colab-badge.svg\" alt=\"Open In Colab\"/></a>"
      ]
    },
    {
      "cell_type": "markdown",
      "metadata": {
        "id": "QAY2H2iyehw8",
        "colab_type": "text"
      },
      "source": [
        "[see medium article refrence](https://medium.com/@joel.barmettler/how-to-upload-your-python-package-to-pypi-65edc5fe9c56)\n",
        "and \n",
        "[pypi org refrence](https://packaging.python.org/tutorials/packaging-projects/)"
      ]
    },
    {
      "cell_type": "code",
      "metadata": {
        "id": "UachebgBNGB4",
        "colab_type": "code",
        "outputId": "fdc307e3-8e0a-4ce4-dbe3-74fea53625ce",
        "colab": {
          "base_uri": "https://localhost:8080/",
          "height": 119
        }
      },
      "source": [
        "!git clone https://github.com/noushadkhan01/matrix_transpose"
      ],
      "execution_count": 1,
      "outputs": [
        {
          "output_type": "stream",
          "text": [
            "Cloning into 'matrix_transpose'...\n",
            "remote: Enumerating objects: 96, done.\u001b[K\n",
            "remote: Counting objects:   1% (1/96)\u001b[K\rremote: Counting objects:   2% (2/96)\u001b[K\rremote: Counting objects:   3% (3/96)\u001b[K\rremote: Counting objects:   4% (4/96)\u001b[K\rremote: Counting objects:   5% (5/96)\u001b[K\rremote: Counting objects:   6% (6/96)\u001b[K\rremote: Counting objects:   7% (7/96)\u001b[K\rremote: Counting objects:   8% (8/96)\u001b[K\rremote: Counting objects:   9% (9/96)\u001b[K\rremote: Counting objects:  10% (10/96)\u001b[K\rremote: Counting objects:  11% (11/96)\u001b[K\rremote: Counting objects:  12% (12/96)\u001b[K\rremote: Counting objects:  13% (13/96)\u001b[K\rremote: Counting objects:  14% (14/96)\u001b[K\rremote: Counting objects:  15% (15/96)\u001b[K\rremote: Counting objects:  16% (16/96)\u001b[K\rremote: Counting objects:  17% (17/96)\u001b[K\rremote: Counting objects:  18% (18/96)\u001b[K\rremote: Counting objects:  19% (19/96)\u001b[K\rremote: Counting objects:  20% (20/96)\u001b[K\rremote: Counting objects:  21% (21/96)\u001b[K\rremote: Counting objects:  22% (22/96)\u001b[K\rremote: Counting objects:  23% (23/96)\u001b[K\rremote: Counting objects:  25% (24/96)\u001b[K\rremote: Counting objects:  26% (25/96)\u001b[K\rremote: Counting objects:  27% (26/96)\u001b[K\rremote: Counting objects:  28% (27/96)\u001b[K\rremote: Counting objects:  29% (28/96)\u001b[K\rremote: Counting objects:  30% (29/96)\u001b[K\rremote: Counting objects:  31% (30/96)\u001b[K\rremote: Counting objects:  32% (31/96)\u001b[K\rremote: Counting objects:  33% (32/96)\u001b[K\rremote: Counting objects:  34% (33/96)\u001b[K\rremote: Counting objects:  35% (34/96)\u001b[K\rremote: Counting objects:  36% (35/96)\u001b[K\rremote: Counting objects:  37% (36/96)\u001b[K\rremote: Counting objects:  38% (37/96)\u001b[K\rremote: Counting objects:  39% (38/96)\u001b[K\rremote: Counting objects:  40% (39/96)\u001b[K\rremote: Counting objects:  41% (40/96)\u001b[K\rremote: Counting objects:  42% (41/96)\u001b[K\rremote: Counting objects:  43% (42/96)\u001b[K\rremote: Counting objects:  44% (43/96)\u001b[K\rremote: Counting objects:  45% (44/96)\u001b[K\rremote: Counting objects:  46% (45/96)\u001b[K\rremote: Counting objects:  47% (46/96)\u001b[K\rremote: Counting objects:  48% (47/96)\u001b[K\rremote: Counting objects:  50% (48/96)\u001b[K\rremote: Counting objects:  51% (49/96)\u001b[K\rremote: Counting objects:  52% (50/96)\u001b[K\rremote: Counting objects:  53% (51/96)\u001b[K\rremote: Counting objects:  54% (52/96)\u001b[K\rremote: Counting objects:  55% (53/96)\u001b[K\rremote: Counting objects:  56% (54/96)\u001b[K\rremote: Counting objects:  57% (55/96)\u001b[K\rremote: Counting objects:  58% (56/96)\u001b[K\rremote: Counting objects:  59% (57/96)\u001b[K\rremote: Counting objects:  60% (58/96)\u001b[K\rremote: Counting objects:  61% (59/96)\u001b[K\rremote: Counting objects:  62% (60/96)\u001b[K\rremote: Counting objects:  63% (61/96)\u001b[K\rremote: Counting objects:  64% (62/96)\u001b[K\rremote: Counting objects:  65% (63/96)\u001b[K\rremote: Counting objects:  66% (64/96)\u001b[K\rremote: Counting objects:  67% (65/96)\u001b[K\rremote: Counting objects:  68% (66/96)\u001b[K\rremote: Counting objects:  69% (67/96)\u001b[K\rremote: Counting objects:  70% (68/96)\u001b[K\rremote: Counting objects:  71% (69/96)\u001b[K\rremote: Counting objects:  72% (70/96)\u001b[K\rremote: Counting objects:  73% (71/96)\u001b[K\rremote: Counting objects:  75% (72/96)\u001b[K\rremote: Counting objects:  76% (73/96)\u001b[K\rremote: Counting objects:  77% (74/96)\u001b[K\rremote: Counting objects:  78% (75/96)\u001b[K\rremote: Counting objects:  79% (76/96)\u001b[K\rremote: Counting objects:  80% (77/96)\u001b[K\rremote: Counting objects:  81% (78/96)\u001b[K\rremote: Counting objects:  82% (79/96)\u001b[K\rremote: Counting objects:  83% (80/96)\u001b[K\rremote: Counting objects:  84% (81/96)\u001b[K\rremote: Counting objects:  85% (82/96)\u001b[K\rremote: Counting objects:  86% (83/96)\u001b[K\rremote: Counting objects:  87% (84/96)\u001b[K\rremote: Counting objects:  88% (85/96)\u001b[K\rremote: Counting objects:  89% (86/96)\u001b[K\rremote: Counting objects:  90% (87/96)\u001b[K\rremote: Counting objects:  91% (88/96)\u001b[K\rremote: Counting objects:  92% (89/96)\u001b[K\rremote: Counting objects:  93% (90/96)\u001b[K\rremote: Counting objects:  94% (91/96)\u001b[K\rremote: Counting objects:  95% (92/96)\u001b[K\rremote: Counting objects:  96% (93/96)\u001b[K\rremote: Counting objects:  97% (94/96)\u001b[K\rremote: Counting objects:  98% (95/96)\u001b[K\rremote: Counting objects: 100% (96/96)\u001b[K\rremote: Counting objects: 100% (96/96), done.\u001b[K\n",
            "remote: Compressing objects:   1% (1/89)\u001b[K\rremote: Compressing objects:   2% (2/89)\u001b[K\rremote: Compressing objects:   3% (3/89)\u001b[K\rremote: Compressing objects:   4% (4/89)\u001b[K\rremote: Compressing objects:   5% (5/89)\u001b[K\rremote: Compressing objects:   6% (6/89)\u001b[K\rremote: Compressing objects:   7% (7/89)\u001b[K\rremote: Compressing objects:   8% (8/89)\u001b[K\rremote: Compressing objects:  10% (9/89)\u001b[K\rremote: Compressing objects:  11% (10/89)\u001b[K\rremote: Compressing objects:  12% (11/89)\u001b[K\rremote: Compressing objects:  13% (12/89)\u001b[K\rremote: Compressing objects:  14% (13/89)\u001b[K\rremote: Compressing objects:  15% (14/89)\u001b[K\rremote: Compressing objects:  16% (15/89)\u001b[K\rremote: Compressing objects:  17% (16/89)\u001b[K\rremote: Compressing objects:  19% (17/89)\u001b[K\rremote: Compressing objects:  20% (18/89)\u001b[K\rremote: Compressing objects:  21% (19/89)\u001b[K\rremote: Compressing objects:  22% (20/89)\u001b[K\rremote: Compressing objects:  23% (21/89)\u001b[K\rremote: Compressing objects:  24% (22/89)\u001b[K\rremote: Compressing objects:  25% (23/89)\u001b[K\rremote: Compressing objects:  26% (24/89)\u001b[K\rremote: Compressing objects:  28% (25/89)\u001b[K\rremote: Compressing objects:  29% (26/89)\u001b[K\rremote: Compressing objects:  30% (27/89)\u001b[K\rremote: Compressing objects:  31% (28/89)\u001b[K\rremote: Compressing objects:  32% (29/89)\u001b[K\rremote: Compressing objects:  33% (30/89)\u001b[K\rremote: Compressing objects:  34% (31/89)\u001b[K\rremote: Compressing objects:  35% (32/89)\u001b[K\rremote: Compressing objects:  37% (33/89)\u001b[K\rremote: Compressing objects:  38% (34/89)\u001b[K\rremote: Compressing objects:  39% (35/89)\u001b[K\rremote: Compressing objects:  40% (36/89)\u001b[K\rremote: Compressing objects:  41% (37/89)\u001b[K\rremote: Compressing objects:  42% (38/89)\u001b[K\rremote: Compressing objects:  43% (39/89)\u001b[K\rremote: Compressing objects:  44% (40/89)\u001b[K\rremote: Compressing objects:  46% (41/89)\u001b[K\rremote: Compressing objects:  47% (42/89)\u001b[K\rremote: Compressing objects:  48% (43/89)\u001b[K\rremote: Compressing objects:  49% (44/89)\u001b[K\rremote: Compressing objects:  50% (45/89)\u001b[K\rremote: Compressing objects:  51% (46/89)\u001b[K\rremote: Compressing objects:  52% (47/89)\u001b[K\rremote: Compressing objects:  53% (48/89)\u001b[K\rremote: Compressing objects:  55% (49/89)\u001b[K\rremote: Compressing objects:  56% (50/89)\u001b[K\rremote: Compressing objects:  57% (51/89)\u001b[K\rremote: Compressing objects:  58% (52/89)\u001b[K\rremote: Compressing objects:  59% (53/89)\u001b[K\rremote: Compressing objects:  60% (54/89)\u001b[K\rremote: Compressing objects:  61% (55/89)\u001b[K\rremote: Compressing objects:  62% (56/89)\u001b[K\rremote: Compressing objects:  64% (57/89)\u001b[K\rremote: Compressing objects:  65% (58/89)\u001b[K\rremote: Compressing objects:  66% (59/89)\u001b[K\rremote: Compressing objects:  67% (60/89)\u001b[K\rremote: Compressing objects:  68% (61/89)\u001b[K\rremote: Compressing objects:  69% (62/89)\u001b[K\rremote: Compressing objects:  70% (63/89)\u001b[K\rremote: Compressing objects:  71% (64/89)\u001b[K\rremote: Compressing objects:  73% (65/89)\u001b[K\rremote: Compressing objects:  74% (66/89)\u001b[K\rremote: Compressing objects:  75% (67/89)\u001b[K\rremote: Compressing objects:  76% (68/89)\u001b[K\rremote: Compressing objects:  77% (69/89)\u001b[K\rremote: Compressing objects:  78% (70/89)\u001b[K\rremote: Compressing objects:  79% (71/89)\u001b[K\rremote: Compressing objects:  80% (72/89)\u001b[K\rremote: Compressing objects:  82% (73/89)\u001b[K\rremote: Compressing objects:  83% (74/89)\u001b[K\rremote: Compressing objects:  84% (75/89)\u001b[K\rremote: Compressing objects:  85% (76/89)\u001b[K\rremote: Compressing objects:  86% (77/89)\u001b[K\rremote: Compressing objects:  87% (78/89)\u001b[K\rremote: Compressing objects:  88% (79/89)\u001b[K\rremote: Compressing objects:  89% (80/89)\u001b[K\rremote: Compressing objects:  91% (81/89)\u001b[K\rremote: Compressing objects:  92% (82/89)\u001b[K\rremote: Compressing objects:  93% (83/89)\u001b[K\rremote: Compressing objects:  94% (84/89)\u001b[K\rremote: Compressing objects:  95% (85/89)\u001b[K\rremote: Compressing objects:  96% (86/89)\u001b[K\rremote: Compressing objects:  97% (87/89)\u001b[K\rremote: Compressing objects:  98% (88/89)\u001b[K\rremote: Compressing objects: 100% (89/89)\u001b[K\rremote: Compressing objects: 100% (89/89), done.\u001b[K\n",
            "remote: Total 96 (delta 38), reused 0 (delta 0), pack-reused 0\u001b[K\n",
            "Unpacking objects:   1% (1/96)   \rUnpacking objects:   2% (2/96)   \rUnpacking objects:   3% (3/96)   \rUnpacking objects:   4% (4/96)   \rUnpacking objects:   5% (5/96)   \rUnpacking objects:   6% (6/96)   \rUnpacking objects:   7% (7/96)   \rUnpacking objects:   8% (8/96)   \rUnpacking objects:   9% (9/96)   \rUnpacking objects:  10% (10/96)   \rUnpacking objects:  11% (11/96)   \rUnpacking objects:  12% (12/96)   \rUnpacking objects:  13% (13/96)   \rUnpacking objects:  14% (14/96)   \rUnpacking objects:  15% (15/96)   \rUnpacking objects:  16% (16/96)   \rUnpacking objects:  17% (17/96)   \rUnpacking objects:  18% (18/96)   \rUnpacking objects:  19% (19/96)   \rUnpacking objects:  20% (20/96)   \rUnpacking objects:  21% (21/96)   \rUnpacking objects:  22% (22/96)   \rUnpacking objects:  23% (23/96)   \rUnpacking objects:  25% (24/96)   \rUnpacking objects:  26% (25/96)   \rUnpacking objects:  27% (26/96)   \rUnpacking objects:  28% (27/96)   \rUnpacking objects:  29% (28/96)   \rUnpacking objects:  30% (29/96)   \rUnpacking objects:  31% (30/96)   \rUnpacking objects:  32% (31/96)   \rUnpacking objects:  33% (32/96)   \rUnpacking objects:  34% (33/96)   \rUnpacking objects:  35% (34/96)   \rUnpacking objects:  36% (35/96)   \rUnpacking objects:  37% (36/96)   \rUnpacking objects:  38% (37/96)   \rUnpacking objects:  39% (38/96)   \rUnpacking objects:  40% (39/96)   \rUnpacking objects:  41% (40/96)   \rUnpacking objects:  42% (41/96)   \rUnpacking objects:  43% (42/96)   \rUnpacking objects:  44% (43/96)   \rUnpacking objects:  45% (44/96)   \rUnpacking objects:  46% (45/96)   \rUnpacking objects:  47% (46/96)   \rUnpacking objects:  48% (47/96)   \rUnpacking objects:  50% (48/96)   \rUnpacking objects:  51% (49/96)   \rUnpacking objects:  52% (50/96)   \rUnpacking objects:  53% (51/96)   \rUnpacking objects:  54% (52/96)   \rUnpacking objects:  55% (53/96)   \rUnpacking objects:  56% (54/96)   \rUnpacking objects:  57% (55/96)   \rUnpacking objects:  58% (56/96)   \rUnpacking objects:  59% (57/96)   \rUnpacking objects:  60% (58/96)   \rUnpacking objects:  61% (59/96)   \rUnpacking objects:  62% (60/96)   \rUnpacking objects:  63% (61/96)   \rUnpacking objects:  64% (62/96)   \rUnpacking objects:  65% (63/96)   \rUnpacking objects:  66% (64/96)   \rUnpacking objects:  67% (65/96)   \rUnpacking objects:  68% (66/96)   \rUnpacking objects:  69% (67/96)   \rUnpacking objects:  70% (68/96)   \rUnpacking objects:  71% (69/96)   \rUnpacking objects:  72% (70/96)   \rUnpacking objects:  73% (71/96)   \rUnpacking objects:  75% (72/96)   \rUnpacking objects:  76% (73/96)   \rUnpacking objects:  77% (74/96)   \rUnpacking objects:  78% (75/96)   \rUnpacking objects:  79% (76/96)   \rUnpacking objects:  80% (77/96)   \rUnpacking objects:  81% (78/96)   \rUnpacking objects:  82% (79/96)   \rUnpacking objects:  83% (80/96)   \rUnpacking objects:  84% (81/96)   \rUnpacking objects:  85% (82/96)   \rUnpacking objects:  86% (83/96)   \rUnpacking objects:  87% (84/96)   \rUnpacking objects:  88% (85/96)   \rUnpacking objects:  89% (86/96)   \rUnpacking objects:  90% (87/96)   \rUnpacking objects:  91% (88/96)   \rUnpacking objects:  92% (89/96)   \rUnpacking objects:  93% (90/96)   \rUnpacking objects:  94% (91/96)   \rUnpacking objects:  95% (92/96)   \rUnpacking objects:  96% (93/96)   \rUnpacking objects:  97% (94/96)   \rUnpacking objects:  98% (95/96)   \rUnpacking objects: 100% (96/96)   \rUnpacking objects: 100% (96/96), done.\n"
          ],
          "name": "stdout"
        }
      ]
    },
    {
      "cell_type": "code",
      "metadata": {
        "id": "h6GgtHZTNJWQ",
        "colab_type": "code",
        "outputId": "533ac5a8-75d4-4846-a835-0cd979e20731",
        "colab": {
          "base_uri": "https://localhost:8080/",
          "height": 34
        }
      },
      "source": [
        "%cd matrix_transpose"
      ],
      "execution_count": 2,
      "outputs": [
        {
          "output_type": "stream",
          "text": [
            "/content/matrix_transpose\n"
          ],
          "name": "stdout"
        }
      ]
    },
    {
      "cell_type": "code",
      "metadata": {
        "id": "N-8HG7rBN2W2",
        "colab_type": "code",
        "outputId": "f1ecd36d-ee2a-4694-8802-3e5a90f140c7",
        "colab": {
          "base_uri": "https://localhost:8080/",
          "height": 476
        }
      },
      "source": [
        "!python setup.py sdist"
      ],
      "execution_count": 3,
      "outputs": [
        {
          "output_type": "stream",
          "text": [
            "running sdist\n",
            "running egg_info\n",
            "creating matrix_transpose.egg-info\n",
            "writing matrix_transpose.egg-info/PKG-INFO\n",
            "writing dependency_links to matrix_transpose.egg-info/dependency_links.txt\n",
            "writing top-level names to matrix_transpose.egg-info/top_level.txt\n",
            "writing manifest file 'matrix_transpose.egg-info/SOURCES.txt'\n",
            "writing manifest file 'matrix_transpose.egg-info/SOURCES.txt'\n",
            "running check\n",
            "creating matrix_transpose-1.6\n",
            "creating matrix_transpose-1.6/matrix_transpose\n",
            "creating matrix_transpose-1.6/matrix_transpose.egg-info\n",
            "copying files to matrix_transpose-1.6...\n",
            "copying LICENSE.txt -> matrix_transpose-1.6\n",
            "copying README.md -> matrix_transpose-1.6\n",
            "copying setup.cfg -> matrix_transpose-1.6\n",
            "copying setup.py -> matrix_transpose-1.6\n",
            "copying matrix_transpose/__init__.py -> matrix_transpose-1.6/matrix_transpose\n",
            "copying matrix_transpose/transpose_without_numpy.py -> matrix_transpose-1.6/matrix_transpose\n",
            "copying matrix_transpose.egg-info/PKG-INFO -> matrix_transpose-1.6/matrix_transpose.egg-info\n",
            "copying matrix_transpose.egg-info/SOURCES.txt -> matrix_transpose-1.6/matrix_transpose.egg-info\n",
            "copying matrix_transpose.egg-info/dependency_links.txt -> matrix_transpose-1.6/matrix_transpose.egg-info\n",
            "copying matrix_transpose.egg-info/top_level.txt -> matrix_transpose-1.6/matrix_transpose.egg-info\n",
            "Writing matrix_transpose-1.6/setup.cfg\n",
            "creating dist\n",
            "Creating tar archive\n",
            "removing 'matrix_transpose-1.6' (and everything under it)\n"
          ],
          "name": "stdout"
        }
      ]
    },
    {
      "cell_type": "code",
      "metadata": {
        "id": "QSFimmo8N8ll",
        "colab_type": "code",
        "outputId": "ed2ebb6e-9b5c-404b-ab2b-cadfe953f961",
        "colab": {
          "base_uri": "https://localhost:8080/",
          "height": 870
        }
      },
      "source": [
        "!python3 -m pip install --user --upgrade twine"
      ],
      "execution_count": 4,
      "outputs": [
        {
          "output_type": "stream",
          "text": [
            "Collecting twine\n",
            "  Downloading https://files.pythonhosted.org/packages/99/94/08b3b933c611416dad89c8abcc94a6d6c29e8609987235b6e7f10b42de82/twine-3.1.1-py3-none-any.whl\n",
            "Requirement already satisfied, skipping upgrade: setuptools>=0.7.0 in /usr/local/lib/python3.6/dist-packages (from twine) (46.1.3)\n",
            "Requirement already satisfied, skipping upgrade: importlib-metadata; python_version < \"3.8\" in /usr/local/lib/python3.6/dist-packages (from twine) (1.6.0)\n",
            "Requirement already satisfied, skipping upgrade: tqdm>=4.14 in /usr/local/lib/python3.6/dist-packages (from twine) (4.41.1)\n",
            "Collecting requests-toolbelt!=0.9.0,>=0.8.0\n",
            "\u001b[?25l  Downloading https://files.pythonhosted.org/packages/60/ef/7681134338fc097acef8d9b2f8abe0458e4d87559c689a8c306d0957ece5/requests_toolbelt-0.9.1-py2.py3-none-any.whl (54kB)\n",
            "\r\u001b[K     |██████                          | 10kB 19.5MB/s eta 0:00:01\r\u001b[K     |████████████                    | 20kB 10.4MB/s eta 0:00:01\r\u001b[K     |██████████████████              | 30kB 8.1MB/s eta 0:00:01\r\u001b[K     |████████████████████████▏       | 40kB 7.3MB/s eta 0:00:01\r\u001b[K     |██████████████████████████████▏ | 51kB 4.4MB/s eta 0:00:01\r\u001b[K     |████████████████████████████████| 61kB 3.5MB/s \n",
            "\u001b[?25hCollecting pkginfo>=1.4.2\n",
            "  Downloading https://files.pythonhosted.org/packages/e6/d5/451b913307b478c49eb29084916639dc53a88489b993530fed0a66bab8b9/pkginfo-1.5.0.1-py2.py3-none-any.whl\n",
            "Collecting keyring>=15.1\n",
            "  Downloading https://files.pythonhosted.org/packages/a8/5e/d13b9feb235d042321a239ac8bc85e90cf3bbe49090c6f1383ac3fd53e0e/keyring-21.2.1-py3-none-any.whl\n",
            "Requirement already satisfied, skipping upgrade: requests>=2.20 in /usr/local/lib/python3.6/dist-packages (from twine) (2.23.0)\n",
            "Collecting readme-renderer>=21.0\n",
            "  Downloading https://files.pythonhosted.org/packages/54/e4/ed43056d80a4fcc3667e543a59cc6beaf0a3c0eade837e5591e82ad3c25a/readme_renderer-26.0-py2.py3-none-any.whl\n",
            "Requirement already satisfied, skipping upgrade: zipp>=0.5 in /usr/local/lib/python3.6/dist-packages (from importlib-metadata; python_version < \"3.8\"->twine) (3.1.0)\n",
            "Collecting SecretStorage>=3; sys_platform == \"linux\"\n",
            "  Downloading https://files.pythonhosted.org/packages/c3/50/8a02cad020e949e6d7105f5f4530d41e3febcaa5b73f8f2148aacb3aeba5/SecretStorage-3.1.2-py3-none-any.whl\n",
            "Collecting jeepney>=0.4.2; sys_platform == \"linux\"\n",
            "  Downloading https://files.pythonhosted.org/packages/79/31/2e8d42727595faf224c6dbb748c32b192e212f25495fe841fb7ce8e168b8/jeepney-0.4.3-py3-none-any.whl\n",
            "Requirement already satisfied, skipping upgrade: certifi>=2017.4.17 in /usr/local/lib/python3.6/dist-packages (from requests>=2.20->twine) (2020.4.5.1)\n",
            "Requirement already satisfied, skipping upgrade: idna<3,>=2.5 in /usr/local/lib/python3.6/dist-packages (from requests>=2.20->twine) (2.9)\n",
            "Requirement already satisfied, skipping upgrade: chardet<4,>=3.0.2 in /usr/local/lib/python3.6/dist-packages (from requests>=2.20->twine) (3.0.4)\n",
            "Requirement already satisfied, skipping upgrade: urllib3!=1.25.0,!=1.25.1,<1.26,>=1.21.1 in /usr/local/lib/python3.6/dist-packages (from requests>=2.20->twine) (1.24.3)\n",
            "Requirement already satisfied, skipping upgrade: six in /usr/local/lib/python3.6/dist-packages (from readme-renderer>=21.0->twine) (1.12.0)\n",
            "Requirement already satisfied, skipping upgrade: docutils>=0.13.1 in /usr/local/lib/python3.6/dist-packages (from readme-renderer>=21.0->twine) (0.15.2)\n",
            "Collecting Pygments>=2.5.1\n",
            "\u001b[?25l  Downloading https://files.pythonhosted.org/packages/2d/68/106af3ae51daf807e9cdcba6a90e518954eb8b70341cee52995540a53ead/Pygments-2.6.1-py3-none-any.whl (914kB)\n",
            "\r\u001b[K     |▍                               | 10kB 18.1MB/s eta 0:00:01\r\u001b[K     |▊                               | 20kB 8.6MB/s eta 0:00:01\r\u001b[K     |█                               | 30kB 12.0MB/s eta 0:00:01\r\u001b[K     |█▍                              | 40kB 9.7MB/s eta 0:00:01\r\u001b[K     |█▉                              | 51kB 7.4MB/s eta 0:00:01\r\u001b[K     |██▏                             | 61kB 8.6MB/s eta 0:00:01\r\u001b[K     |██▌                             | 71kB 8.2MB/s eta 0:00:01\r\u001b[K     |██▉                             | 81kB 9.1MB/s eta 0:00:01\r\u001b[K     |███▎                            | 92kB 7.6MB/s eta 0:00:01\r\u001b[K     |███▋                            | 102kB 7.5MB/s eta 0:00:01\r\u001b[K     |████                            | 112kB 7.5MB/s eta 0:00:01\r\u001b[K     |████▎                           | 122kB 7.5MB/s eta 0:00:01\r\u001b[K     |████▋                           | 133kB 7.5MB/s eta 0:00:01\r\u001b[K     |█████                           | 143kB 7.5MB/s eta 0:00:01\r\u001b[K     |█████▍                          | 153kB 7.5MB/s eta 0:00:01\r\u001b[K     |█████▊                          | 163kB 7.5MB/s eta 0:00:01\r\u001b[K     |██████                          | 174kB 7.5MB/s eta 0:00:01\r\u001b[K     |██████▌                         | 184kB 7.5MB/s eta 0:00:01\r\u001b[K     |██████▉                         | 194kB 7.5MB/s eta 0:00:01\r\u001b[K     |███████▏                        | 204kB 7.5MB/s eta 0:00:01\r\u001b[K     |███████▌                        | 215kB 7.5MB/s eta 0:00:01\r\u001b[K     |███████▉                        | 225kB 7.5MB/s eta 0:00:01\r\u001b[K     |████████▎                       | 235kB 7.5MB/s eta 0:00:01\r\u001b[K     |████████▋                       | 245kB 7.5MB/s eta 0:00:01\r\u001b[K     |█████████                       | 256kB 7.5MB/s eta 0:00:01\r\u001b[K     |█████████▎                      | 266kB 7.5MB/s eta 0:00:01\r\u001b[K     |█████████▊                      | 276kB 7.5MB/s eta 0:00:01\r\u001b[K     |██████████                      | 286kB 7.5MB/s eta 0:00:01\r\u001b[K     |██████████▍                     | 296kB 7.5MB/s eta 0:00:01\r\u001b[K     |██████████▊                     | 307kB 7.5MB/s eta 0:00:01\r\u001b[K     |███████████                     | 317kB 7.5MB/s eta 0:00:01\r\u001b[K     |███████████▌                    | 327kB 7.5MB/s eta 0:00:01\r\u001b[K     |███████████▉                    | 337kB 7.5MB/s eta 0:00:01\r\u001b[K     |████████████▏                   | 348kB 7.5MB/s eta 0:00:01\r\u001b[K     |████████████▌                   | 358kB 7.5MB/s eta 0:00:01\r\u001b[K     |█████████████                   | 368kB 7.5MB/s eta 0:00:01\r\u001b[K     |█████████████▎                  | 378kB 7.5MB/s eta 0:00:01\r\u001b[K     |█████████████▋                  | 389kB 7.5MB/s eta 0:00:01\r\u001b[K     |██████████████                  | 399kB 7.5MB/s eta 0:00:01\r\u001b[K     |██████████████▍                 | 409kB 7.5MB/s eta 0:00:01\r\u001b[K     |██████████████▊                 | 419kB 7.5MB/s eta 0:00:01\r\u001b[K     |███████████████                 | 430kB 7.5MB/s eta 0:00:01\r\u001b[K     |███████████████▍                | 440kB 7.5MB/s eta 0:00:01\r\u001b[K     |███████████████▊                | 450kB 7.5MB/s eta 0:00:01\r\u001b[K     |████████████████▏               | 460kB 7.5MB/s eta 0:00:01\r\u001b[K     |████████████████▌               | 471kB 7.5MB/s eta 0:00:01\r\u001b[K     |████████████████▉               | 481kB 7.5MB/s eta 0:00:01\r\u001b[K     |█████████████████▏              | 491kB 7.5MB/s eta 0:00:01\r\u001b[K     |█████████████████▋              | 501kB 7.5MB/s eta 0:00:01\r\u001b[K     |██████████████████              | 512kB 7.5MB/s eta 0:00:01\r\u001b[K     |██████████████████▎             | 522kB 7.5MB/s eta 0:00:01\r\u001b[K     |██████████████████▋             | 532kB 7.5MB/s eta 0:00:01\r\u001b[K     |███████████████████             | 542kB 7.5MB/s eta 0:00:01\r\u001b[K     |███████████████████▍            | 552kB 7.5MB/s eta 0:00:01\r\u001b[K     |███████████████████▊            | 563kB 7.5MB/s eta 0:00:01\r\u001b[K     |████████████████████            | 573kB 7.5MB/s eta 0:00:01\r\u001b[K     |████████████████████▍           | 583kB 7.5MB/s eta 0:00:01\r\u001b[K     |████████████████████▉           | 593kB 7.5MB/s eta 0:00:01\r\u001b[K     |█████████████████████▏          | 604kB 7.5MB/s eta 0:00:01\r\u001b[K     |█████████████████████▌          | 614kB 7.5MB/s eta 0:00:01\r\u001b[K     |█████████████████████▉          | 624kB 7.5MB/s eta 0:00:01\r\u001b[K     |██████████████████████▏         | 634kB 7.5MB/s eta 0:00:01\r\u001b[K     |██████████████████████▋         | 645kB 7.5MB/s eta 0:00:01\r\u001b[K     |███████████████████████         | 655kB 7.5MB/s eta 0:00:01\r\u001b[K     |███████████████████████▎        | 665kB 7.5MB/s eta 0:00:01\r\u001b[K     |███████████████████████▋        | 675kB 7.5MB/s eta 0:00:01\r\u001b[K     |████████████████████████        | 686kB 7.5MB/s eta 0:00:01\r\u001b[K     |████████████████████████▍       | 696kB 7.5MB/s eta 0:00:01\r\u001b[K     |████████████████████████▊       | 706kB 7.5MB/s eta 0:00:01\r\u001b[K     |█████████████████████████       | 716kB 7.5MB/s eta 0:00:01\r\u001b[K     |█████████████████████████▍      | 727kB 7.5MB/s eta 0:00:01\r\u001b[K     |█████████████████████████▉      | 737kB 7.5MB/s eta 0:00:01\r\u001b[K     |██████████████████████████▏     | 747kB 7.5MB/s eta 0:00:01\r\u001b[K     |██████████████████████████▌     | 757kB 7.5MB/s eta 0:00:01\r\u001b[K     |██████████████████████████▉     | 768kB 7.5MB/s eta 0:00:01\r\u001b[K     |███████████████████████████▎    | 778kB 7.5MB/s eta 0:00:01\r\u001b[K     |███████████████████████████▋    | 788kB 7.5MB/s eta 0:00:01\r\u001b[K     |████████████████████████████    | 798kB 7.5MB/s eta 0:00:01\r\u001b[K     |████████████████████████████▎   | 808kB 7.5MB/s eta 0:00:01\r\u001b[K     |████████████████████████████▊   | 819kB 7.5MB/s eta 0:00:01\r\u001b[K     |█████████████████████████████   | 829kB 7.5MB/s eta 0:00:01\r\u001b[K     |█████████████████████████████▍  | 839kB 7.5MB/s eta 0:00:01\r\u001b[K     |█████████████████████████████▊  | 849kB 7.5MB/s eta 0:00:01\r\u001b[K     |██████████████████████████████  | 860kB 7.5MB/s eta 0:00:01\r\u001b[K     |██████████████████████████████▌ | 870kB 7.5MB/s eta 0:00:01\r\u001b[K     |██████████████████████████████▉ | 880kB 7.5MB/s eta 0:00:01\r\u001b[K     |███████████████████████████████▏| 890kB 7.5MB/s eta 0:00:01\r\u001b[K     |███████████████████████████████▌| 901kB 7.5MB/s eta 0:00:01\r\u001b[K     |████████████████████████████████| 911kB 7.5MB/s eta 0:00:01\r\u001b[K     |████████████████████████████████| 921kB 7.5MB/s \n",
            "\u001b[?25hRequirement already satisfied, skipping upgrade: bleach>=2.1.0 in /usr/local/lib/python3.6/dist-packages (from readme-renderer>=21.0->twine) (3.1.5)\n",
            "Collecting cryptography\n",
            "\u001b[?25l  Downloading https://files.pythonhosted.org/packages/3c/04/686efee2dcdd25aecf357992e7d9362f443eb182ecd623f882bc9f7a6bba/cryptography-2.9.2-cp35-abi3-manylinux2010_x86_64.whl (2.7MB)\n",
            "\u001b[K     |████████████████████████████████| 2.7MB 16.0MB/s \n",
            "\u001b[?25hRequirement already satisfied, skipping upgrade: webencodings in /usr/local/lib/python3.6/dist-packages (from bleach>=2.1.0->readme-renderer>=21.0->twine) (0.5.1)\n",
            "Requirement already satisfied, skipping upgrade: packaging in /usr/local/lib/python3.6/dist-packages (from bleach>=2.1.0->readme-renderer>=21.0->twine) (20.3)\n",
            "Requirement already satisfied, skipping upgrade: cffi!=1.11.3,>=1.8 in /usr/local/lib/python3.6/dist-packages (from cryptography->SecretStorage>=3; sys_platform == \"linux\"->keyring>=15.1->twine) (1.14.0)\n",
            "Requirement already satisfied, skipping upgrade: pyparsing>=2.0.2 in /usr/local/lib/python3.6/dist-packages (from packaging->bleach>=2.1.0->readme-renderer>=21.0->twine) (2.4.7)\n",
            "Requirement already satisfied, skipping upgrade: pycparser in /usr/local/lib/python3.6/dist-packages (from cffi!=1.11.3,>=1.8->cryptography->SecretStorage>=3; sys_platform == \"linux\"->keyring>=15.1->twine) (2.20)\n",
            "\u001b[31mERROR: datascience 0.10.6 has requirement folium==0.2.1, but you'll have folium 0.8.3 which is incompatible.\u001b[0m\n",
            "Installing collected packages: requests-toolbelt, pkginfo, cryptography, jeepney, SecretStorage, keyring, Pygments, readme-renderer, twine\n",
            "\u001b[33m  WARNING: The script pkginfo is installed in '/root/.local/bin' which is not on PATH.\n",
            "  Consider adding this directory to PATH or, if you prefer to suppress this warning, use --no-warn-script-location.\u001b[0m\n",
            "\u001b[33m  WARNING: The script keyring is installed in '/root/.local/bin' which is not on PATH.\n",
            "  Consider adding this directory to PATH or, if you prefer to suppress this warning, use --no-warn-script-location.\u001b[0m\n",
            "\u001b[33m  WARNING: The script pygmentize is installed in '/root/.local/bin' which is not on PATH.\n",
            "  Consider adding this directory to PATH or, if you prefer to suppress this warning, use --no-warn-script-location.\u001b[0m\n",
            "\u001b[33m  WARNING: The script twine is installed in '/root/.local/bin' which is not on PATH.\n",
            "  Consider adding this directory to PATH or, if you prefer to suppress this warning, use --no-warn-script-location.\u001b[0m\n",
            "Successfully installed Pygments-2.6.1 SecretStorage-3.1.2 cryptography-2.9.2 jeepney-0.4.3 keyring-21.2.1 pkginfo-1.5.0.1 readme-renderer-26.0 requests-toolbelt-0.9.1 twine-3.1.1\n"
          ],
          "name": "stdout"
        }
      ]
    },
    {
      "cell_type": "code",
      "metadata": {
        "id": "PHh87eLvOFJ4",
        "colab_type": "code",
        "outputId": "b94fb4eb-78e6-4634-b1ce-af40b3c9d9c6",
        "colab": {
          "base_uri": "https://localhost:8080/",
          "height": 258
        }
      },
      "source": [
        "!!python -m twine upload dist/*"
      ],
      "execution_count": 5,
      "outputs": [
        {
          "output_type": "execute_result",
          "data": {
            "text/plain": [
              "['Uploading distributions to https://upload.pypi.org/legacy/',\n",
              " 'Enter your username: noushadkhan01',\n",
              " '/root/.local/lib/python3.6/site-packages/twine/auth.py:68: UserWarning: No recommended backend was available. Install a recommended 3rd party backend package; or, install the keyrings.alt package if you want to use the non-recommended backends. See https://pypi.org/project/keyring for details.',\n",
              " '  warnings.warn(str(exc))',\n",
              " 'Enter your password: ',\n",
              " 'Uploading matrix_transpose-1.6.tar.gz',\n",
              " '',\n",
              " '  0% 0.00/5.31k [00:00<?, ?B/s]',\n",
              " '100% 5.31k/5.31k [00:00<00:00, 45.9kB/s]',\n",
              " '100% 5.31k/5.31k [00:01<00:00, 4.33kB/s]',\n",
              " '',\n",
              " 'View at:',\n",
              " 'https://pypi.org/project/matrix-transpose/1.6/']"
            ]
          },
          "metadata": {
            "tags": []
          },
          "execution_count": 5
        }
      ]
    },
    {
      "cell_type": "code",
      "metadata": {
        "id": "p2BkdYGROaIi",
        "colab_type": "code",
        "outputId": "d57bd135-93fd-47aa-e395-7a78b84ad5b4",
        "colab": {
          "base_uri": "https://localhost:8080/",
          "height": 190
        }
      },
      "source": [
        "!pip install matrix_transpose"
      ],
      "execution_count": 6,
      "outputs": [
        {
          "output_type": "stream",
          "text": [
            "Collecting matrix_transpose\n",
            "  Downloading https://files.pythonhosted.org/packages/82/2f/b981496ea3583052f42b7e5a536248cd9607358b6ddc6c38453b0695b71f/matrix_transpose-1.6.tar.gz\n",
            "Building wheels for collected packages: matrix-transpose\n",
            "  Building wheel for matrix-transpose (setup.py) ... \u001b[?25l\u001b[?25hdone\n",
            "  Created wheel for matrix-transpose: filename=matrix_transpose-1.6-cp36-none-any.whl size=2927 sha256=23edb4000516c9d7d1b72ee399d0f3b36ee5d280c31e53c78203db2b26fd35d8\n",
            "  Stored in directory: /root/.cache/pip/wheels/67/ea/15/0c39c859b310bb1a5e1ee8842f08ce4f546e0a115997ab055f\n",
            "Successfully built matrix-transpose\n",
            "Installing collected packages: matrix-transpose\n",
            "Successfully installed matrix-transpose-1.6\n"
          ],
          "name": "stdout"
        }
      ]
    },
    {
      "cell_type": "code",
      "metadata": {
        "id": "7O-nb17oTfCP",
        "colab_type": "code",
        "colab": {}
      },
      "source": [
        "import matrix_transpose"
      ],
      "execution_count": 0,
      "outputs": []
    },
    {
      "cell_type": "code",
      "metadata": {
        "id": "o6krIW8vTirI",
        "colab_type": "code",
        "colab": {}
      },
      "source": [
        "from matrix_transpose import transpose_without_numpy"
      ],
      "execution_count": 0,
      "outputs": []
    },
    {
      "cell_type": "code",
      "metadata": {
        "id": "TU5A1tmfTnjo",
        "colab_type": "code",
        "colab": {}
      },
      "source": [
        "from matrix_transpose.transpose_without_numpy import transpose_without_numpy"
      ],
      "execution_count": 0,
      "outputs": []
    },
    {
      "cell_type": "code",
      "metadata": {
        "id": "SVFYJie5TuBF",
        "colab_type": "code",
        "outputId": "049b6471-8fd6-4ad3-982f-e6ff0424a39a",
        "colab": {
          "base_uri": "https://localhost:8080/",
          "height": 34
        }
      },
      "source": [
        "transpose_without_numpy([[1, 2], [3, 4]])"
      ],
      "execution_count": 10,
      "outputs": [
        {
          "output_type": "execute_result",
          "data": {
            "text/plain": [
              "[[1, 3], [2, 4]]"
            ]
          },
          "metadata": {
            "tags": []
          },
          "execution_count": 10
        }
      ]
    },
    {
      "cell_type": "code",
      "metadata": {
        "id": "KJzhaw-tNVYU",
        "colab_type": "code",
        "colab": {}
      },
      "source": [
        "import numpy as np"
      ],
      "execution_count": 0,
      "outputs": []
    },
    {
      "cell_type": "code",
      "metadata": {
        "id": "3PiwzoEYTyG4",
        "colab_type": "code",
        "colab": {
          "base_uri": "https://localhost:8080/",
          "height": 51
        },
        "outputId": "ab12df96-0b95-47dd-985f-c5a229520a2c"
      },
      "source": [
        "matrix = np.array([[1, 2, 3, 4, 5], [6, 7, 8, 9, 10]])\n",
        "matrix"
      ],
      "execution_count": 12,
      "outputs": [
        {
          "output_type": "execute_result",
          "data": {
            "text/plain": [
              "array([[ 1,  2,  3,  4,  5],\n",
              "       [ 6,  7,  8,  9, 10]])"
            ]
          },
          "metadata": {
            "tags": []
          },
          "execution_count": 12
        }
      ]
    },
    {
      "cell_type": "code",
      "metadata": {
        "id": "1HTjRl1wNWum",
        "colab_type": "code",
        "colab": {
          "base_uri": "https://localhost:8080/",
          "height": 102
        },
        "outputId": "6ab78bc6-832b-4304-a723-2063c8d92009"
      },
      "source": [
        "np.array(transpose_without_numpy(matrix))"
      ],
      "execution_count": 13,
      "outputs": [
        {
          "output_type": "execute_result",
          "data": {
            "text/plain": [
              "array([[ 1,  6],\n",
              "       [ 2,  7],\n",
              "       [ 3,  8],\n",
              "       [ 4,  9],\n",
              "       [ 5, 10]])"
            ]
          },
          "metadata": {
            "tags": []
          },
          "execution_count": 13
        }
      ]
    },
    {
      "cell_type": "code",
      "metadata": {
        "id": "VO9qf-mgNaiU",
        "colab_type": "code",
        "colab": {}
      },
      "source": [
        ""
      ],
      "execution_count": 0,
      "outputs": []
    }
  ]
}